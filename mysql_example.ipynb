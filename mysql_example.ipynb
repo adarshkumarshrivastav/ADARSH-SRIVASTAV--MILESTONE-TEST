{
 "cells": [
  {
   "cell_type": "markdown",
   "id": "5147d7e1-40a1-48c9-9c36-c2483cb6dbb4",
   "metadata": {},
   "source": [
    "#### Create a database name Travel _Planner in mysgl,and create a table name bookings in that which having attributes (user_id INT, flight_id INThotel__id INT, activity_id INT,booking _date DATE) fill with some dummy value .Now you have to read the content of this table using pandas as dataframe.Show the output."
   ]
  },
  {
   "cell_type": "code",
   "execution_count": 3,
   "id": "74f5f24c-3a53-4863-b523-3029d01ca2da",
   "metadata": {},
   "outputs": [
    {
     "name": "stdout",
     "output_type": "stream",
     "text": [
      "   user_id  flight_id  hotel_id  activity_id booking_date\n",
      "0        1        201       101          301   2024-07-15\n",
      "1        2        202       102          302   2024-07-16\n",
      "2        3        203       103          303   2024-07-17\n",
      "3        4        204       104          304   2024-07-18\n",
      "4        5        205       105          305   2024-07-19\n",
      "5        6        206       106          306   2024-07-20\n",
      "6        7        207       107          307   2024-07-21\n",
      "7        8        208       108          308   2024-07-22\n"
     ]
    }
   ],
   "source": [
    "import pandas as pd\n",
    "import mysql.connector\n",
    "\n",
    "conn = mysql.connector.connect(\n",
    "    user='root',\n",
    "    password='Mohit@123',\n",
    "    host='localhost',\n",
    "    port=3306,\n",
    "    database='travel_planner'\n",
    ")\n",
    "\n",
    "cur = conn.cursor()\n",
    "\n",
    "query = \"SELECT * FROM bookings\"\n",
    "\n",
    "cur.execute(query)\n",
    "data = cur.fetchall()\n",
    "columns = [desc[0] for desc in cur.description]\n",
    "\n",
    "df = pd.DataFrame(data, columns=columns)\n",
    "\n",
    "cur.close()\n",
    "conn.close()\n",
    "\n",
    "print(df)"
   ]
  },
  {
   "cell_type": "code",
   "execution_count": null,
   "id": "b2c6bdc6-d7ca-4a6b-a91e-762553898440",
   "metadata": {},
   "outputs": [],
   "source": []
  }
 ],
 "metadata": {
  "kernelspec": {
   "display_name": "Python 3 (ipykernel)",
   "language": "python",
   "name": "python3"
  },
  "language_info": {
   "codemirror_mode": {
    "name": "ipython",
    "version": 3
   },
   "file_extension": ".py",
   "mimetype": "text/x-python",
   "name": "python",
   "nbconvert_exporter": "python",
   "pygments_lexer": "ipython3",
   "version": "3.10.8"
  }
 },
 "nbformat": 4,
 "nbformat_minor": 5
}
