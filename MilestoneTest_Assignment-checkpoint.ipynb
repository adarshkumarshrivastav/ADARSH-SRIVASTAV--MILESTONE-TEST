{
 "cells": [
  {
   "cell_type": "markdown",
   "id": "cade25a9-97c0-4b92-9533-00de20ba5b2e",
   "metadata": {},
   "source": [
    "Question 1.1: Write the Answer to these questions.\n",
    "Note: Give at least one example for each of the questions."
   ]
  },
  {
   "cell_type": "markdown",
   "id": "2e061a89-630a-452d-9dfa-79a326761d06",
   "metadata": {},
   "source": [
    "1. What is the difference between static and dynamic variables in Python?"
   ]
  },
  {
   "cell_type": "code",
   "execution_count": 1,
   "id": "b1a80036-5997-4346-9ee8-7bf1ff906591",
   "metadata": {},
   "outputs": [],
   "source": [
    "# Static variables are usually defined within a class but outside any instance methods.\n",
    "# They are also known as class variables.\n",
    "\n",
    "class MyClass: \n",
    "    static_variable = 10 # This is a static variable\n",
    "\n",
    "# Dynamic variables are typically instance variables, meaning they are defined within methods\n",
    "# and belong to the instance of the class.\n",
    "\n",
    "class MyClass:\n",
    "    def __init__(self, value): \n",
    "        self.instance_variable = value # This is a dynamic (instance) variable"
   ]
  },
  {
   "cell_type": "markdown",
   "id": "3cea0382-7e2b-48e1-9a6a-01468412cd4a",
   "metadata": {},
   "source": [
    "2. Explain the purpose of \"pop’,'popitem’,\"clear()\" in a dictionary with suitable examples. "
   ]
  },
  {
   "cell_type": "code",
   "execution_count": 4,
   "id": "12396c7b-4d12-4c55-ad92-266220455a5c",
   "metadata": {},
   "outputs": [
    {
     "name": "stdout",
     "output_type": "stream",
     "text": [
      "3\n",
      "('cherry', 2)\n",
      "{}\n"
     ]
    }
   ],
   "source": [
    "# pop(): Removes the specified key and returns the corresponding value.\n",
    "#If the specified key is not found, it raises a KeyError, unless a default value is provided.\n",
    "fruit_prices = {'apple': 3, 'banana': 1, 'cherry': 2}\n",
    "\n",
    "apple_price = fruit_prices.pop('apple')\n",
    "print(apple_price)\n",
    "\n",
    "\n",
    "# popitem(): The popitem() method removes and returns the last key-value pair as a tuple.\n",
    "last_item = fruit_prices.popitem()\n",
    "print(last_item)\n",
    "\n",
    "# clear(): The clear() method removes all items from the dictionary, leaving it empty.\n",
    "fruit_prices.clear()\n",
    "print(fruit_prices)"
   ]
  },
  {
   "cell_type": "markdown",
   "id": "f7685aef-ccb6-43ce-8e2e-d326ac60322b",
   "metadata": {},
   "source": [
    "3. What do you mean by FrozenSet? Explain it with suitable examples. "
   ]
  },
  {
   "cell_type": "code",
   "execution_count": 6,
   "id": "4083268e-019b-4527-b118-8c091b50315e",
   "metadata": {},
   "outputs": [
    {
     "ename": "AttributeError",
     "evalue": "'frozenset' object has no attribute 'add'",
     "output_type": "error",
     "traceback": [
      "\u001b[0;31m---------------------------------------------------------------------------\u001b[0m",
      "\u001b[0;31mAttributeError\u001b[0m                            Traceback (most recent call last)",
      "Cell \u001b[0;32mIn[6], line 6\u001b[0m\n\u001b[1;32m      1\u001b[0m \u001b[38;5;66;03m# A frozenset is an immutable version of a Python set. Unlike a regular set, a frozenset cannot be modified \u001b[39;00m\n\u001b[1;32m      2\u001b[0m \u001b[38;5;66;03m# after it is created. It is hashable and can be used as a key in a dictionary or as an element of another set.\u001b[39;00m\n\u001b[1;32m      4\u001b[0m my_frozenset \u001b[38;5;241m=\u001b[39m \u001b[38;5;28mfrozenset\u001b[39m([\u001b[38;5;241m1\u001b[39m, \u001b[38;5;241m2\u001b[39m, \u001b[38;5;241m3\u001b[39m, \u001b[38;5;241m4\u001b[39m])\n\u001b[0;32m----> 6\u001b[0m \u001b[43mmy_frozenset\u001b[49m\u001b[38;5;241;43m.\u001b[39;49m\u001b[43madd\u001b[49m(\u001b[38;5;241m5\u001b[39m)  \u001b[38;5;66;03m# This will raise an AttributeError\u001b[39;00m\n",
      "\u001b[0;31mAttributeError\u001b[0m: 'frozenset' object has no attribute 'add'"
     ]
    }
   ],
   "source": [
    "# A frozenset is an immutable version of a Python set. Unlike a regular set, a frozenset cannot be modified \n",
    "# after it is created. It is hashable and can be used as a key in a dictionary or as an element of another set.\n",
    "\n",
    "my_frozenset = frozenset([1, 2, 3, 4])\n",
    "\n",
    "my_frozenset.add(5)  # This will raise an AttributeError"
   ]
  },
  {
   "cell_type": "markdown",
   "id": "692ef7e7-1a17-4f95-a972-7daf23ac74d7",
   "metadata": {},
   "source": [
    "4. Differentiate between mutable and immutable data types in Python and give examples of mutable and \n",
    "immutable data types. "
   ]
  },
  {
   "cell_type": "code",
   "execution_count": 7,
   "id": "378bfebc-6c46-4142-a77d-17e24c1584e5",
   "metadata": {},
   "outputs": [
    {
     "name": "stdout",
     "output_type": "stream",
     "text": [
      "[1, 2, 3, 4]\n",
      "{'a': 1, 'b': 3}\n"
     ]
    },
    {
     "ename": "TypeError",
     "evalue": "'tuple' object does not support item assignment",
     "output_type": "error",
     "traceback": [
      "\u001b[0;31m---------------------------------------------------------------------------\u001b[0m",
      "\u001b[0;31mTypeError\u001b[0m                                 Traceback (most recent call last)",
      "Cell \u001b[0;32mIn[7], line 13\u001b[0m\n\u001b[1;32m     10\u001b[0m \u001b[38;5;66;03m# Immutable data types are those whose values cannot be changed after they are created.\u001b[39;00m\n\u001b[1;32m     11\u001b[0m \u001b[38;5;66;03m# Any modification to an immutable object results in a new object being created.\u001b[39;00m\n\u001b[1;32m     12\u001b[0m my_tuple \u001b[38;5;241m=\u001b[39m (\u001b[38;5;241m1\u001b[39m, \u001b[38;5;241m2\u001b[39m, \u001b[38;5;241m3\u001b[39m)\n\u001b[0;32m---> 13\u001b[0m \u001b[43mmy_tuple\u001b[49m\u001b[43m[\u001b[49m\u001b[38;5;241;43m0\u001b[39;49m\u001b[43m]\u001b[49m \u001b[38;5;241m=\u001b[39m \u001b[38;5;241m4\u001b[39m  \u001b[38;5;66;03m# This will raise a TypeError\u001b[39;00m\n",
      "\u001b[0;31mTypeError\u001b[0m: 'tuple' object does not support item assignment"
     ]
    }
   ],
   "source": [
    "# Mutable data types are those whose values can be changed in place after they are created.\n",
    "my_list = [1, 2, 3]\n",
    "my_list.append(4)\n",
    "print(my_list)\n",
    "\n",
    "my_dict = {'a': 1, 'b': 2}\n",
    "my_dict['b'] = 3\n",
    "print(my_dict)\n",
    "\n",
    "# Immutable data types are those whose values cannot be changed after they are created.\n",
    "# Any modification to an immutable object results in a new object being created.\n",
    "my_tuple = (1, 2, 3)\n",
    "my_tuple[0] = 4  # This will raise a TypeError"
   ]
  },
  {
   "cell_type": "markdown",
   "id": "24b4bc0d-a539-4a24-b7cf-10d6c7e9c98a",
   "metadata": {},
   "source": [
    "5. What is __init__?Explain with an example. "
   ]
  },
  {
   "cell_type": "code",
   "execution_count": 12,
   "id": "c0de3277-196a-475e-ad87-363994a5ced4",
   "metadata": {},
   "outputs": [
    {
     "name": "stdout",
     "output_type": "stream",
     "text": [
      "2\n"
     ]
    }
   ],
   "source": [
    "# __init__ is a special method in Python classes, also known as the constructor.\n",
    "# It is automatically called when a new instance of the class is created.\n",
    "# The __init__ method is used to initialize the instance's attributes\n",
    "\n",
    "class MyClass:\n",
    "    def __init__(self):\n",
    "        self.a = 2\n",
    "        \n",
    "obj = MyClass()\n",
    "print(obj.a)"
   ]
  },
  {
   "cell_type": "markdown",
   "id": "b4eac736-0402-492c-bb8b-baf855f358de",
   "metadata": {},
   "source": [
    "6. What is docstring in Python?Explain with an example. "
   ]
  },
  {
   "cell_type": "code",
   "execution_count": 14,
   "id": "2cf147ed-0e07-44bc-bcd2-b70ea51d4b99",
   "metadata": {},
   "outputs": [
    {
     "name": "stdout",
     "output_type": "stream",
     "text": [
      "\n",
      "    This is the example of doc string in python.\n",
      "    \n"
     ]
    }
   ],
   "source": [
    "# In Python, a docstring is a special type of string that is used to document a module,\n",
    "# function, class, or method. It is placed as the first statement in the body of the function,\n",
    "# class, or module. Docstrings are enclosed in triple quotes (\"\"\" or ''') and can span multiple lines.\n",
    "\n",
    "def func1():\n",
    "    \"\"\"\n",
    "    This is the example of doc string in python.\n",
    "    \"\"\"\n",
    "    pass\n",
    "\n",
    "print(func1.__doc__)"
   ]
  },
  {
   "cell_type": "markdown",
   "id": "3d095750-b9a7-4e13-a4ac-a8edfd3681ca",
   "metadata": {},
   "source": [
    "7. What are unit tests in Python? "
   ]
  },
  {
   "cell_type": "code",
   "execution_count": 16,
   "id": "e6882711-c076-4581-9e5a-dc2764dc8e8b",
   "metadata": {},
   "outputs": [
    {
     "name": "stderr",
     "output_type": "stream",
     "text": [
      "..\n",
      "----------------------------------------------------------------------\n",
      "Ran 2 tests in 0.002s\n",
      "\n",
      "OK\n"
     ]
    },
    {
     "data": {
      "text/plain": [
       "<unittest.runner.TextTestResult run=2 errors=0 failures=0>"
      ]
     },
     "execution_count": 16,
     "metadata": {},
     "output_type": "execute_result"
    }
   ],
   "source": [
    "# Unit tests in Python are a way of verifying that individual components of code (usually functions or methods)\n",
    "# work as expected. They help ensure that each unit of code performs its intended function correctly and continue\n",
    "# to do so as you make changes to the codebase. Unit testing is a key practice in test-driven development (TDD)\n",
    "# and helps in catching bugs early in the development cycle.\n",
    "\n",
    "def add(x, y):\n",
    "    return x + y\n",
    "\n",
    "def subtract(x, y):\n",
    "    return x - y\n",
    "\n",
    "import unittest\n",
    "\n",
    "class TestCalculator(unittest.TestCase):\n",
    "\n",
    "    def test_add(self):\n",
    "        self.assertEqual(add(3, 4), 7)\n",
    "        self.assertEqual(add(-1, 1), 0)\n",
    "        self.assertEqual(add(-5, -5), -10)\n",
    "\n",
    "    def test_subtract(self):\n",
    "        self.assertEqual(subtract(10, 5), 5)\n",
    "        self.assertEqual(subtract(0, 0), 0)\n",
    "        self.assertEqual(subtract(-5, -5), 0)\n",
    "\n",
    "suite = unittest.TestLoader().loadTestsFromTestCase(TestCalculator)\n",
    "runner = unittest.TextTestRunner()\n",
    "runner.run(suite)"
   ]
  },
  {
   "cell_type": "markdown",
   "id": "2b84a477-44b9-4d89-b218-67e0dd810034",
   "metadata": {},
   "source": [
    "8. What is break, continue and pass in Python? "
   ]
  },
  {
   "cell_type": "code",
   "execution_count": 18,
   "id": "7b7afea2-f529-4687-a69e-4cc8b2c93c0f",
   "metadata": {},
   "outputs": [
    {
     "name": "stdout",
     "output_type": "stream",
     "text": [
      "0\n",
      "1\n",
      "2\n",
      "3\n",
      "4\n"
     ]
    }
   ],
   "source": [
    "# The break statement is used to exit from a loop prematurely. \n",
    "for i in range(10):\n",
    "    if i == 5:\n",
    "        break  # Exit the loop when i equals 5\n",
    "    print(i)"
   ]
  },
  {
   "cell_type": "code",
   "execution_count": 19,
   "id": "369acb1c-f5e2-4d42-ae15-7641e0ed9bc5",
   "metadata": {},
   "outputs": [
    {
     "name": "stdout",
     "output_type": "stream",
     "text": [
      "1\n",
      "3\n",
      "5\n",
      "7\n",
      "9\n"
     ]
    }
   ],
   "source": [
    "# The continue statement is used to skip the rest of the code inside the current iteration of\n",
    "#the loop and proceed to the next iteration.\n",
    "for i in range(10):\n",
    "    if i % 2 == 0:\n",
    "        continue  # Skip the rest of the loop body for even numbers\n",
    "    print(i)"
   ]
  },
  {
   "cell_type": "code",
   "execution_count": 20,
   "id": "2459241c-e283-4a50-8c6d-04acb96d8dba",
   "metadata": {},
   "outputs": [],
   "source": [
    "# The pass statement is a null operation; it is used as a placeholder in situations where a\n",
    "# statement is syntactically required but where no action is needed or where the implementation\n",
    "# is yet to be defined.\n",
    "def function_that_does_nothing():\n",
    "    pass  # Placeholder for future implementation"
   ]
  },
  {
   "cell_type": "markdown",
   "id": "96f56fbb-6906-4b02-b4ab-ae2fe976e978",
   "metadata": {},
   "source": [
    "9. What is the use of self in Python? "
   ]
  },
  {
   "cell_type": "code",
   "execution_count": 23,
   "id": "54edc03f-28b7-408e-b241-5ecd674f72ef",
   "metadata": {},
   "outputs": [
    {
     "name": "stdout",
     "output_type": "stream",
     "text": [
      "Hello, my name is Mohit and I am 25 years old.\n",
      "Hello, my name is Rohit and I am 28 years old.\n"
     ]
    }
   ],
   "source": [
    "# self is a conventional name used as the first parameter of methods in a class.\n",
    "# It represents the instance of the class (or memory referance of that instance) on which a method is being called.\n",
    "# Using self allows to access instance attributes and methods from within class methods.\n",
    "\n",
    "class Person:\n",
    "    def __init__(self, name, age):\n",
    "        self.name = name\n",
    "        self.age = age\n",
    "\n",
    "    def greet(self):\n",
    "        print(f\"Hello, my name is {self.name} and I am {self.age} years old.\")\n",
    "\n",
    "person1 = Person(\"Mohit\", 25)\n",
    "person1.greet()\n",
    "\n",
    "person2 = Person(\"Rohit\", 28)\n",
    "person2.greet()"
   ]
  },
  {
   "cell_type": "markdown",
   "id": "a115fd74-7e3c-4cf0-9bb7-1c88e1dafeab",
   "metadata": {},
   "source": [
    "10. What are global, protected and private attributes in Python? "
   ]
  },
  {
   "cell_type": "code",
   "execution_count": 27,
   "id": "e316bdd8-1c80-430e-ad09-89a2a626ce06",
   "metadata": {},
   "outputs": [
    {
     "name": "stdout",
     "output_type": "stream",
     "text": [
      "10\n"
     ]
    }
   ],
   "source": [
    "# Global Attributes: Defined outside any class or function, accessible throughout the module or script.\n",
    "global_var = 10\n",
    "\n",
    "class Example:\n",
    "    def print_global(self):\n",
    "        print(global_var)\n",
    "\n",
    "obj = Example()\n",
    "obj.print_global()"
   ]
  },
  {
   "cell_type": "code",
   "execution_count": 28,
   "id": "239b207a-cd2d-4e06-9249-f262a0e2385d",
   "metadata": {},
   "outputs": [
    {
     "name": "stdout",
     "output_type": "stream",
     "text": [
      "20\n",
      "30\n"
     ]
    }
   ],
   "source": [
    "# Protected Attributes: Indicated by a single underscore (_), accessible within the class and its subclasses,\n",
    "# but intended to be protected from outside access.\n",
    "class Parent:\n",
    "    def __init__(self, value):\n",
    "        self._protected_attr = value\n",
    "\n",
    "    def get_protected_attr(self):\n",
    "        return self._protected_attr\n",
    "\n",
    "class Child(Parent):\n",
    "    def __init__(self, value):\n",
    "        super().__init__(value)\n",
    "\n",
    "    def access_protected(self):\n",
    "        return self._protected_attr\n",
    "\n",
    "parent = Parent(20)\n",
    "print(parent.get_protected_attr())\n",
    "\n",
    "child = Child(30)\n",
    "print(child.access_protected())"
   ]
  },
  {
   "cell_type": "code",
   "execution_count": 29,
   "id": "94575bf5-db5d-4428-b4d9-cb0a4c90a343",
   "metadata": {},
   "outputs": [
    {
     "name": "stdout",
     "output_type": "stream",
     "text": [
      "40\n",
      "40\n"
     ]
    },
    {
     "ename": "AttributeError",
     "evalue": "'Example' object has no attribute '__private_attr'",
     "output_type": "error",
     "traceback": [
      "\u001b[0;31m---------------------------------------------------------------------------\u001b[0m",
      "\u001b[0;31mAttributeError\u001b[0m                            Traceback (most recent call last)",
      "Cell \u001b[0;32mIn[29], line 17\u001b[0m\n\u001b[1;32m     14\u001b[0m \u001b[38;5;28mprint\u001b[39m(obj\u001b[38;5;241m.\u001b[39m_Example__private_attr)\n\u001b[1;32m     16\u001b[0m \u001b[38;5;66;03m# Attempting to access private attribute directly will raise an AttributeError\u001b[39;00m\n\u001b[0;32m---> 17\u001b[0m \u001b[38;5;28mprint\u001b[39m(\u001b[43mobj\u001b[49m\u001b[38;5;241;43m.\u001b[39;49m\u001b[43m__private_attr\u001b[49m)\n",
      "\u001b[0;31mAttributeError\u001b[0m: 'Example' object has no attribute '__private_attr'"
     ]
    }
   ],
   "source": [
    "# Private Attributes: Indicated by a double underscore (__), intended to be accessible only within the \n",
    "# class itself, with name mangling making direct access from outside difficult.\n",
    "class Example:\n",
    "    def __init__(self, value):\n",
    "        self.__private_attr = value\n",
    "\n",
    "    def get_private_attr(self):\n",
    "        return self.__private_attr\n",
    "\n",
    "obj = Example(40)\n",
    "print(obj.get_private_attr())\n",
    "\n",
    "# it can be accessed with name mangling\n",
    "print(obj._Example__private_attr)\n",
    "\n",
    "# Attempting to access private attribute directly will raise an AttributeError\n",
    "print(obj.__private_attr)"
   ]
  },
  {
   "cell_type": "markdown",
   "id": "36fbf162-b645-42de-9061-df1fedec1427",
   "metadata": {},
   "source": [
    "11. What are modules and packages in Python? "
   ]
  },
  {
   "cell_type": "code",
   "execution_count": 31,
   "id": "ca21c3ed-33de-4f6a-9bc9-44f2d8c9dd1d",
   "metadata": {},
   "outputs": [],
   "source": [
    "# A module is a single file containing Python code. It can include functions, classes, variables,\n",
    "# and runnable code. Modules allow to organize code logically and reuse it across different parts of program.\n",
    "import math # math is a module\n",
    "\n",
    "# A package is a collection of related modules organized in a directory hierarchy.\n",
    "# Packages help in grouping related modules together and managing larger codebases more effectively.\n",
    "# A package is essentially a directory containing a special __init__.py file and other module files or subdirectories.\n",
    "from datetime import datetime, timedelta #here datetime is a whole package from we import datetime and timedelta"
   ]
  },
  {
   "cell_type": "markdown",
   "id": "617ccacb-a16b-4ee0-ab7a-69055164d5df",
   "metadata": {},
   "source": [
    "12. What are lists and tuples? What is the key difference between the two? "
   ]
  },
  {
   "cell_type": "code",
   "execution_count": 33,
   "id": "3c437654-d89a-4a1f-8782-cc0233c1e4d0",
   "metadata": {},
   "outputs": [
    {
     "name": "stdout",
     "output_type": "stream",
     "text": [
      "[1, 22, 3, 4]\n"
     ]
    },
    {
     "ename": "TypeError",
     "evalue": "'tuple' object does not support item assignment",
     "output_type": "error",
     "traceback": [
      "\u001b[0;31m---------------------------------------------------------------------------\u001b[0m",
      "\u001b[0;31mTypeError\u001b[0m                                 Traceback (most recent call last)",
      "Cell \u001b[0;32mIn[33], line 8\u001b[0m\n\u001b[1;32m      6\u001b[0m \u001b[38;5;66;03m# A tuple is an immutable, ordered collection of items. Once a tuple is created, its contents cannot be changed.\u001b[39;00m\n\u001b[1;32m      7\u001b[0m t \u001b[38;5;241m=\u001b[39m (\u001b[38;5;241m2\u001b[39m, \u001b[38;5;241m4\u001b[39m, \u001b[38;5;241m5\u001b[39m)\n\u001b[0;32m----> 8\u001b[0m \u001b[43mt\u001b[49m\u001b[43m[\u001b[49m\u001b[38;5;241;43m1\u001b[39;49m\u001b[43m]\u001b[49m \u001b[38;5;241m=\u001b[39m \u001b[38;5;241m12\u001b[39m \u001b[38;5;66;03m#cann't chage gives an error\u001b[39;00m\n\u001b[1;32m      9\u001b[0m \u001b[38;5;28mprint\u001b[39m(t)\n\u001b[1;32m     11\u001b[0m \u001b[38;5;66;03m# Key difference between list and tuple is that list is mutable and tuple is immutable.\u001b[39;00m\n",
      "\u001b[0;31mTypeError\u001b[0m: 'tuple' object does not support item assignment"
     ]
    }
   ],
   "source": [
    "# A list is a mutable, ordered collection of items. You can change, add, or remove items after the list has been created.\n",
    "l = [1,2,3,4]\n",
    "l[1] = 22 #changing second element\n",
    "print(l)\n",
    "\n",
    "# A tuple is an immutable, ordered collection of items. Once a tuple is created, its contents cannot be changed.\n",
    "t = (2, 4, 5)\n",
    "t[1] = 12 #cann't chage gives an error\n",
    "print(t)\n",
    "\n",
    "# Key difference between list and tuple is that list is mutable and tuple is immutable."
   ]
  },
  {
   "cell_type": "markdown",
   "id": "cd0a6d4d-7c8e-4ad7-9d20-524d3695a54e",
   "metadata": {},
   "source": [
    "13. What is an Interpreted language & dynamically typed language?Write 5 differences between them. "
   ]
  },
  {
   "cell_type": "code",
   "execution_count": 35,
   "id": "1d01ebd5-9c36-47b4-8e41-5d357e9d016e",
   "metadata": {},
   "outputs": [],
   "source": [
    "# # An interpreted language is one where most of the instructions are executed directly by an interpreter\n",
    "# # rather than being compiled into machine code first. The interpreter translates high-level code into an\n",
    "# # intermediate form and executes it line by linor statement by statement.\n",
    "\n",
    "# # A dynamically typed language is one in which the type of a variable is determined at runtime rather than\n",
    "# # at compile-time. This means that you don’t need to explicitly declare the type of a variable when you create it.\n",
    "\n",
    "# Interpreted Language: Focuses on the execution model, where code is interpreted and executed line-by-line or\n",
    "# statement-by-statement.\n",
    "# Dynamically Typed Language: Focuses on type handling, where type information is checked and determined at runtime.\n",
    "\n",
    "# Interpreted Language: Code is executed directly by the interpreter without a separate compilation step.\n",
    "# Dynamically Typed Language: Does not require type declaration, but can be either interpreted or\n",
    "# compiled (e.g., Python is both interpreted and dynamically typed).\n",
    "\n",
    "# Interpreted Language: Errors are often detected at runtime as the code is executed.\n",
    "# Dynamically Typed Language: Type-related errors are also detected at runtime due to the lack of type declaration.\n",
    "\n",
    "# Interpreted Language: Generally slower in execution compared to compiled languages, as the interpreter processes\n",
    "# code at runtime.\n",
    "# Dynamically Typed Language: Performance can vary based on the language and implementation; dynamic typing can\n",
    "# introduce overhead due to runtime type checking.\n",
    "\n",
    "# Interpreted Language: Offers flexibility in development and debugging due to the immediate execution of code.\n",
    "# Dynamically Typed Language: Provides flexibility in how variables are used and reassigned, allowing for more\n",
    "# concise code but at the cost of potential runtime type errors."
   ]
  },
  {
   "cell_type": "markdown",
   "id": "d21dd146-4866-49e9-9f2e-84a77502b38d",
   "metadata": {},
   "source": [
    "14. What are Dict and List comprehensions? "
   ]
  },
  {
   "cell_type": "code",
   "execution_count": 36,
   "id": "b7702e3f-6404-424d-8262-23949e7fb44e",
   "metadata": {},
   "outputs": [
    {
     "name": "stdout",
     "output_type": "stream",
     "text": [
      "[0, 1, 4, 9, 16, 25, 36, 49, 64, 81]\n"
     ]
    }
   ],
   "source": [
    "# A list comprehension is a compact way to generate lists. It consists of an expression followed by\n",
    "# a for clause, and optionally, one or more if clauses.\n",
    "squares = [x**2 for x in range(10)]\n",
    "print(squares)"
   ]
  },
  {
   "cell_type": "code",
   "execution_count": 38,
   "id": "57685d14-003f-4f30-b23a-1f1fbce18abd",
   "metadata": {},
   "outputs": [
    {
     "name": "stdout",
     "output_type": "stream",
     "text": [
      "{0: 0, 1: 1, 2: 4, 3: 9, 4: 16, 5: 25, 6: 36, 7: 49, 8: 64, 9: 81}\n"
     ]
    }
   ],
   "source": [
    "# A dict comprehension is a similar concept but used to create dictionaries. It allows to create\n",
    "# a dictionary by specifying key-value pairs in a compact form.\n",
    "squares_dict = {x: x**2 for x in range(10)}\n",
    "print(squares_dict)"
   ]
  },
  {
   "cell_type": "markdown",
   "id": "5ab2ce7c-164b-422c-8600-28b8668b3a80",
   "metadata": {},
   "source": [
    "15. What are decorators in Python? Explain it with an example.Write down its use cases. "
   ]
  },
  {
   "cell_type": "code",
   "execution_count": 39,
   "id": "34f3a499-c85d-482d-a405-14e6fbbb0337",
   "metadata": {},
   "outputs": [
    {
     "name": "stdout",
     "output_type": "stream",
     "text": [
      "Execution time: 1.0010650157928467 seconds\n",
      "8\n"
     ]
    }
   ],
   "source": [
    "# Decorators: Functions that enhance or modify other functions' behavior without changing their code.\n",
    "# It can be used for performing logging, authorization, caching, validation, and performance monitoring.\n",
    "\n",
    "import time\n",
    "\n",
    "def time_it(func):\n",
    "    def wrapper(*args, **kwargs):\n",
    "        start_time = time.time()\n",
    "        result = func(*args, **kwargs)\n",
    "        end_time = time.time()\n",
    "        print(f\"Execution time: {end_time - start_time} seconds\")\n",
    "        return result\n",
    "    return wrapper\n",
    "\n",
    "@time_it\n",
    "def calculate_sum(a, b):\n",
    "    time.sleep(1)\n",
    "    return a + b\n",
    "\n",
    "print(calculate_sum(5, 3))"
   ]
  },
  {
   "cell_type": "markdown",
   "id": "bc5bac2a-a72f-4176-b79a-4fcbd893cde5",
   "metadata": {},
   "source": [
    "16. How is memory managed in Python? "
   ]
  },
  {
   "cell_type": "code",
   "execution_count": 41,
   "id": "00c48d33-e04f-42fd-af73-219b6d1140ff",
   "metadata": {},
   "outputs": [],
   "source": [
    "# Memory management in Python is a crucial aspect that involves several mechanisms to ensure efficient\n",
    "# allocation and deallocation of memory.\n",
    "\n",
    "# Reference Counting: Keeps track of the number of references to each object and deallocates\n",
    "# memory when the count reaches zero.\n",
    "# Garbage Collection: Handles cyclic references that reference counting cannot clean up, using a generational approach.\n",
    "# Memory Allocation: Managed dynamically with object pools and blocks to improve efficiency and performance."
   ]
  },
  {
   "cell_type": "markdown",
   "id": "bcd706c5-4792-47c1-bc5a-bd19a5334333",
   "metadata": {},
   "source": [
    "17. What is lambda in Python? Why is it used? "
   ]
  },
  {
   "cell_type": "code",
   "execution_count": 42,
   "id": "1b157727-9251-4b17-b5fd-10b374ff44e1",
   "metadata": {},
   "outputs": [
    {
     "name": "stdout",
     "output_type": "stream",
     "text": [
      "[1, 4, 9, 16, 25]\n"
     ]
    }
   ],
   "source": [
    "# lambda is a keyword used to create small, anonymous functions.\n",
    "# These functions are often referred to as \"lambda functions\" or \"lambda expressions.\"\n",
    "# A lambda function is a concise way to define a function without giving it a name.\n",
    "# It is used for creating small, one-off functions on the fly. \n",
    "\n",
    "numbers = [1, 2, 3, 4, 5]\n",
    "squared_numbers = list(map(lambda x: x**2, numbers))\n",
    "print(squared_numbers)"
   ]
  },
  {
   "cell_type": "markdown",
   "id": "bcfb745c-5087-4106-b8f5-86af5a946780",
   "metadata": {},
   "source": [
    "18. Explain split() and join() functions in Python? "
   ]
  },
  {
   "cell_type": "code",
   "execution_count": 43,
   "id": "585e3e0d-0fb9-43c4-91ab-9c638c07c9fa",
   "metadata": {},
   "outputs": [
    {
     "name": "stdout",
     "output_type": "stream",
     "text": [
      "['Hello', 'World', 'Python']\n",
      "Hello World Python\n"
     ]
    }
   ],
   "source": [
    "# The split() method is used to break a string into a list of substrings based on a specified delimiter.\n",
    "# By default, it splits the string by whitespace characters.\n",
    "text = \"Hello World Python\"\n",
    "words = text.split()\n",
    "print(words) \n",
    "\n",
    "# The join() method is used to concatenate a list of strings into a single string, with a specified separator\n",
    "# string inserted between each element.\n",
    "words = ['Hello', 'World', 'Python']\n",
    "sentence = ' '.join(words)\n",
    "print(sentence)"
   ]
  },
  {
   "cell_type": "markdown",
   "id": "e0aafcb9-1333-4950-aeac-108a8f1c6513",
   "metadata": {},
   "source": [
    "19. What are iterators,, iterable & generators in Python? "
   ]
  },
  {
   "cell_type": "code",
   "execution_count": 44,
   "id": "fa5aa10e-26f7-4b75-a730-6fcb2e904e7d",
   "metadata": {},
   "outputs": [
    {
     "name": "stdout",
     "output_type": "stream",
     "text": [
      "1\n",
      "2\n",
      "3\n"
     ]
    }
   ],
   "source": [
    "# An iterable is an object that can return an iterator. It defines a sequence of values that can be iterated over,\n",
    "# typically using a for loop. An iterable object implements the __iter__() method, which returns an iterator.\n",
    "# List is an iterable\n",
    "my_list = [1, 2, 3]\n",
    "for item in my_list:\n",
    "    print(item)"
   ]
  },
  {
   "cell_type": "code",
   "execution_count": 45,
   "id": "16e16718-51c5-4ce3-a7a8-ac1f95f159e7",
   "metadata": {},
   "outputs": [
    {
     "name": "stdout",
     "output_type": "stream",
     "text": [
      "1\n",
      "2\n",
      "3\n"
     ]
    }
   ],
   "source": [
    "# An iterator is an object that represents a stream of data. It produces the next value in the sequence when\n",
    "# its __next__() method is called. Iterators implement both the __iter__() and __next__() methods.\n",
    "my_list = [1, 2, 3]\n",
    "iterator = iter(my_list)\n",
    "\n",
    "print(next(iterator))\n",
    "print(next(iterator))\n",
    "print(next(iterator)) "
   ]
  },
  {
   "cell_type": "code",
   "execution_count": 46,
   "id": "e610c89d-e3cf-4383-8ed5-947b89dedc6b",
   "metadata": {},
   "outputs": [
    {
     "name": "stdout",
     "output_type": "stream",
     "text": [
      "1\n",
      "2\n",
      "3\n",
      "4\n",
      "5\n"
     ]
    }
   ],
   "source": [
    "# A generator is a special type of iterator that is defined using a function with the yield keyword instead of return.\n",
    "def count_up_to(n):\n",
    "    count = 1\n",
    "    while count <= n:\n",
    "        yield count\n",
    "        count += 1\n",
    "\n",
    "counter = count_up_to(5)\n",
    "for number in counter:\n",
    "    print(number)"
   ]
  },
  {
   "cell_type": "markdown",
   "id": "ea006d57-4692-4827-979d-cde1ad7f8e24",
   "metadata": {},
   "source": [
    "20. What is the difference between xrange and range in Python? "
   ]
  },
  {
   "cell_type": "code",
   "execution_count": 47,
   "id": "d91e0e07-3562-4b0d-8dee-f3b8b2e14222",
   "metadata": {},
   "outputs": [
    {
     "name": "stdout",
     "output_type": "stream",
     "text": [
      "0\n",
      "1\n",
      "2\n",
      "3\n",
      "4\n"
     ]
    }
   ],
   "source": [
    "# In Python 2.x, range returns a list of numbers.\n",
    "# In Python 2.x, xrange returns an iterator that generates numbers on demand \n",
    "# In Python 3.x, range behaves like xrange from Python 2.x. It returns an immutable sequence\n",
    "# type that generates numbers on demand.\n",
    "\n",
    "for num in range(5):\n",
    "    print(num)"
   ]
  },
  {
   "cell_type": "markdown",
   "id": "5f1907e4-cbae-4fae-a2dc-edd128b51ab0",
   "metadata": {},
   "source": [
    "21. Pillars of Oops. "
   ]
  },
  {
   "cell_type": "code",
   "execution_count": 48,
   "id": "280648c7-16ab-4c1b-86a0-a93d0995f4b7",
   "metadata": {},
   "outputs": [],
   "source": [
    "# Inheritance, Polymorphism, Encapsulation and Abstraction are main four pillars of Oops."
   ]
  },
  {
   "cell_type": "markdown",
   "id": "313e9d2a-f453-4c6c-b3ff-53d65b221c54",
   "metadata": {},
   "source": [
    "22. How will you check if a class is a child of another class? "
   ]
  },
  {
   "cell_type": "code",
   "execution_count": 49,
   "id": "1f5398f4-7b2f-4d93-893a-a80a45762b57",
   "metadata": {},
   "outputs": [
    {
     "name": "stdout",
     "output_type": "stream",
     "text": [
      "True\n"
     ]
    }
   ],
   "source": [
    "# In Python, we can check if a class is a subclass (child class) of another class (parent class) using the\n",
    "# built-in issubclass() function.\n",
    "\n",
    "class Animal:\n",
    "    pass\n",
    "\n",
    "class Dog(Animal):\n",
    "    pass\n",
    "\n",
    "print(issubclass(Dog, Animal))"
   ]
  },
  {
   "cell_type": "markdown",
   "id": "a7c8e5d0-9c5b-4325-84f1-74f21efef773",
   "metadata": {},
   "source": [
    "23. How does inheritance work in python? Explain all types of inheritance with an example. "
   ]
  },
  {
   "cell_type": "code",
   "execution_count": 50,
   "id": "6894bda5-5f39-4b24-a244-f87661f15ac5",
   "metadata": {},
   "outputs": [],
   "source": [
    "# Inheritance in Python is a fundamental concept of object-oriented programming (OOP) that allows a class\n",
    "# (known as the child or derived class) to inherit attributes and methods from another class\n",
    "# (known as the parent or base class). This promotes code reuse and establishes a hierarchical\n",
    "# relationship between classes\n",
    "\n",
    "# A child class inherits from a parent class, gaining its attributes and methods.\n",
    "# A child class can override methods from the parent class to provide specific behavior.\n",
    "# The child class can call methods from the parent class using the super() function."
   ]
  },
  {
   "cell_type": "code",
   "execution_count": 53,
   "id": "9af54f4c-276f-4a9b-b1c1-16fec0359523",
   "metadata": {},
   "outputs": [
    {
     "name": "stdout",
     "output_type": "stream",
     "text": [
      "Animal speaks\n",
      "Dog barks\n"
     ]
    }
   ],
   "source": [
    "# Single Inheritance: A class inherits from one parent class.\n",
    "class Animal:\n",
    "    def speak(self):\n",
    "        return \"Animal speaks\"\n",
    "\n",
    "class Dog(Animal):\n",
    "    def bark(self):\n",
    "        return \"Dog barks\"\n",
    "\n",
    "dog = Dog()\n",
    "print(dog.speak())\n",
    "print(dog.bark())"
   ]
  },
  {
   "cell_type": "code",
   "execution_count": 54,
   "id": "c8c0b76b-6007-4e68-9c99-37d019cc111e",
   "metadata": {},
   "outputs": [
    {
     "name": "stdout",
     "output_type": "stream",
     "text": [
      "Coding\n"
     ]
    }
   ],
   "source": [
    "# Multiple Inheritance: A class inherits from multiple parent classes.\n",
    "class Father:\n",
    "    def skills(self):\n",
    "        return \"Coding\"\n",
    "\n",
    "class Mother:\n",
    "    def skills(self):\n",
    "        return \"Cooking\"\n",
    "\n",
    "class Child(Father, Mother):\n",
    "    pass\n",
    "\n",
    "child = Child()\n",
    "print(child.skills())"
   ]
  },
  {
   "cell_type": "code",
   "execution_count": 56,
   "id": "81450a3b-3c29-4331-8ddc-a6ef7552f302",
   "metadata": {},
   "outputs": [
    {
     "name": "stdout",
     "output_type": "stream",
     "text": [
      "Animal speaks\n",
      "Mammal walks\n",
      "Dog barks\n"
     ]
    }
   ],
   "source": [
    "# Multilevel Inheritance: A class inherits from another class, which inherits from yet another class.\n",
    "class Animal:\n",
    "    def speak(self):\n",
    "        return \"Animal speaks\"\n",
    "\n",
    "class Mammal(Animal):\n",
    "    def walk(self):\n",
    "        return \"Mammal walks\"\n",
    "\n",
    "class Dog(Mammal):\n",
    "    def bark(self):\n",
    "        return \"Dog barks\"\n",
    "\n",
    "dog = Dog()\n",
    "print(dog.speak())\n",
    "print(dog.walk())\n",
    "print(dog.bark())"
   ]
  },
  {
   "cell_type": "code",
   "execution_count": 57,
   "id": "576c63b2-3a54-41c2-9724-16729a1b2784",
   "metadata": {},
   "outputs": [
    {
     "name": "stdout",
     "output_type": "stream",
     "text": [
      "Animal speaks\n",
      "Dog barks\n",
      "Animal speaks\n",
      "Cat meows\n"
     ]
    }
   ],
   "source": [
    "# Hierarchical Inheritance: Multiple classes inherit from a single parent class.\n",
    "class Animal:\n",
    "    def speak(self):\n",
    "        return \"Animal speaks\"\n",
    "\n",
    "class Dog(Animal):\n",
    "    def bark(self):\n",
    "        return \"Dog barks\"\n",
    "\n",
    "class Cat(Animal):\n",
    "    def meow(self):\n",
    "        return \"Cat meows\"\n",
    "\n",
    "dog = Dog()\n",
    "cat = Cat()\n",
    "\n",
    "print(dog.speak())\n",
    "print(dog.bark())\n",
    "\n",
    "print(cat.speak())\n",
    "print(cat.meow())"
   ]
  },
  {
   "cell_type": "code",
   "execution_count": 58,
   "id": "1d4aa86b-a934-4ff2-a3ac-1d8c954e9a2d",
   "metadata": {},
   "outputs": [
    {
     "name": "stdout",
     "output_type": "stream",
     "text": [
      "Class B method\n"
     ]
    }
   ],
   "source": [
    "# Hybrid Inheritance: A combination of multiple inheritance types, which can be complex and require careful\n",
    "# handling of method resolution.\n",
    "class A:\n",
    "    def method(self):\n",
    "        return \"Class A method\"\n",
    "\n",
    "class B(A):\n",
    "    def method(self):\n",
    "        return \"Class B method\"\n",
    "\n",
    "class C(A):\n",
    "    def method(self):\n",
    "        return \"Class C method\"\n",
    "\n",
    "class D(B, C):\n",
    "    pass\n",
    "\n",
    "d = D()\n",
    "print(d.method())"
   ]
  },
  {
   "cell_type": "markdown",
   "id": "0de69c1a-f8f5-4d53-8d18-e84937d7f1a9",
   "metadata": {},
   "source": [
    "24. What is encapsulation? Explain it with an example. "
   ]
  },
  {
   "cell_type": "code",
   "execution_count": 59,
   "id": "dfaaa1f9-d858-411d-a558-8f9c9a258d2d",
   "metadata": {},
   "outputs": [
    {
     "name": "stdout",
     "output_type": "stream",
     "text": [
      "John\n",
      "Name: Jane, Age: 30\n"
     ]
    }
   ],
   "source": [
    "# Encapsulation in Python is the concept of bundling data (attributes) and methods (functions)\n",
    "# that operate on the data into a single unit, typically a class. It hides the internal state\n",
    "# of an object from unauthorized access and modification by using private attributes\n",
    "# (prefixed with double underscores __) and public methods.\n",
    "\n",
    "# Key Points:\n",
    "# Private Attributes: Hidden from outside access, accessed only through public methods.\n",
    "# Public Methods: Provide controlled access to private attributes.\n",
    "# Getter and Setter Methods: Used to retrieve or modify private attributes with validation.\n",
    "\n",
    "class Person:\n",
    "    def __init__(self, name, age):\n",
    "        self.__name = name\n",
    "        self.__age = age\n",
    "\n",
    "    def get_name(self):\n",
    "        return self.__name\n",
    "\n",
    "    def set_name(self, name):\n",
    "        if isinstance(name, str) and name:\n",
    "            self.__name = name\n",
    "\n",
    "    def get_age(self):\n",
    "        return self.__age\n",
    "\n",
    "    def set_age(self, age):\n",
    "        if isinstance(age, int) and age > 0:\n",
    "            self.__age = age\n",
    "\n",
    "    def display_info(self):\n",
    "        print(f\"Name: {self.__name}, Age: {self.__age}\")\n",
    "\n",
    "person = Person(\"John\", 30)\n",
    "print(person.get_name())\n",
    "person.set_name(\"Jane\")\n",
    "person.display_info()"
   ]
  },
  {
   "cell_type": "markdown",
   "id": "dbf1a8c7-decb-49f9-8a12-681afb316e5d",
   "metadata": {},
   "source": [
    "25. What is polymorphism? Explain it with an example. "
   ]
  },
  {
   "cell_type": "code",
   "execution_count": 61,
   "id": "90241c9b-8d06-468f-8eb0-4e8d31eb6ad7",
   "metadata": {},
   "outputs": [
    {
     "name": "stdout",
     "output_type": "stream",
     "text": [
      "Woof\n",
      "Meow\n"
     ]
    }
   ],
   "source": [
    "# Polymorphism is an OOP concept that allows objects of different classes to be treated as objects of a common\n",
    "# superclass. It enables a single interface to be used for different underlying forms.\n",
    "\n",
    "# Method Overriding: Subclasses provide specific implementations for methods defined in their superclass.\n",
    "# Duck Typing: Objects are used based on their behavior rather than their explicit type.\n",
    "\n",
    "class Animal:\n",
    "    def speak(self):\n",
    "        raise NotImplementedError\n",
    "\n",
    "class Dog(Animal):\n",
    "    def speak(self):\n",
    "        return \"Woof\"\n",
    "\n",
    "class Cat(Animal):\n",
    "    def speak(self):\n",
    "        return \"Meow\"\n",
    "\n",
    "def make_animal_speak(animal):\n",
    "\n",
    "    print(animal.speak())\n",
    "\n",
    "dog = Dog()\n",
    "cat = Cat()\n",
    "\n",
    "make_animal_speak(dog)\n",
    "make_animal_speak(cat)"
   ]
  },
  {
   "cell_type": "markdown",
   "id": "fac34eab-703f-490b-93f4-74ba67e7695d",
   "metadata": {},
   "source": [
    "#### Question 1.2 is in word file."
   ]
  },
  {
   "cell_type": "markdown",
   "id": "228b8341-c65a-487e-98d6-2a68ff153956",
   "metadata": {},
   "source": [
    "#### Question 1.3, \n",
    "#### name = [\"Mohan’, \"dash’, \"karam’, ‘chandra’,\"gandhi’,'Bapu’] \n",
    "#### do the following operations in this list; "
   ]
  },
  {
   "cell_type": "code",
   "execution_count": 67,
   "id": "640f2458-34e1-4710-9bed-7ef6007c6120",
   "metadata": {},
   "outputs": [],
   "source": [
    "name = [\"Mohan\", \"dash\", \"karam\", \"chandra\", \"gandhi\", \"Bapu\"]"
   ]
  },
  {
   "cell_type": "code",
   "execution_count": 68,
   "id": "5f9b8b9b-e855-46b1-9f2e-5fc9cc64790a",
   "metadata": {},
   "outputs": [
    {
     "data": {
      "text/plain": [
       "['freedom_fighter', 'dash', 'karam', 'chandra', 'gandhi', 'Bapu']"
      ]
     },
     "execution_count": 68,
     "metadata": {},
     "output_type": "execute_result"
    }
   ],
   "source": [
    "# a) add an element ‘freedom_fighter\" in this list at the Oth index. \n",
    "name[0] = 'freedom_fighter'\n",
    "name"
   ]
  },
  {
   "cell_type": "code",
   "execution_count": 72,
   "id": "87c3b422-41b5-4f89-b7a3-9269c3b71844",
   "metadata": {},
   "outputs": [
    {
     "name": "stdout",
     "output_type": "stream",
     "text": [
      "6\n"
     ]
    }
   ],
   "source": [
    "# b) find the output of the following ,and explain how? \n",
    "lengthl = len((name[-len(name)+1:-1:2])) \n",
    "length2 = len((name[-len(name)+1:-1])) \n",
    "print(lengthl+length2)\n",
    "\n",
    "# -len(name) + 1 equals -7 + 1, which is -6. This index refers to \"Ohan\".\n",
    "# -1 refers to the last element \"gandhi\".\n",
    "# The slice name[-6:-1:2] starts from \"Ohan\" and takes every 2nd element until \"gandhi\" (excluding it).\n",
    "# Elements included: [\"Ohan\", \"karam\"].\n",
    "# Length of the slice: 2.\n",
    "\n",
    "# -len(name) + 1 equals -6, referring to \"Ohan\".\n",
    "# -1 refers to the last element \"gandhi\".\n",
    "# The slice name[-6:-1] starts from \"Ohan\" and goes up to but not including \"gandhi\".\n",
    "# Elements included: [\"Ohan\", \"dash\", \"karam\", \"chandra\"].\n",
    "# Length of the slice: 4.\n",
    "\n",
    "# length1 = 2\n",
    "# length2 = 4\n",
    "# Sum: 2 + 4 = 6."
   ]
  },
  {
   "cell_type": "code",
   "execution_count": 74,
   "id": "fa5910ab-64f3-489d-aa22-fce45f2cfc32",
   "metadata": {},
   "outputs": [
    {
     "name": "stdout",
     "output_type": "stream",
     "text": [
      "['freedom_fighter', 'dash', 'karam', 'chandra', 'gandhi', 'Bapu', 'Netaji', 'Bose', 'Netaji', 'Bose']\n"
     ]
    }
   ],
   "source": [
    "# c) add two more elements in the name [\"Netaji’,'Bose’] at the end of the list. \n",
    "name.extend(['Netaji', 'Bose'])\n",
    "print(name)"
   ]
  },
  {
   "cell_type": "code",
   "execution_count": 77,
   "id": "595394e1-9486-498a-86ab-b03f11f77b38",
   "metadata": {},
   "outputs": [
    {
     "name": "stdout",
     "output_type": "stream",
     "text": [
      "['Mohan', 'dash', 'karam', 'chandra', 'gandi', 'Bapuiji']\n"
     ]
    }
   ],
   "source": [
    "#d) what will be the value of temp: \n",
    "name = [\"Bapuiji\", \"dash\", \"karam\", \"chandra\", \"gandi\", \"Mohan\"] \n",
    "temp = name[-1] \n",
    "name[-1] = name[0] \n",
    "name[0] = temp \n",
    "print(name) \n",
    "\n",
    "# The code swaps the first and last elements of the list:\n",
    "# Store the last element (\"Mohan\") in temp.\n",
    "# Replace the last element with the first element (\"Bapuiji\").\n",
    "# Set the first element to the value stored in temp (\"Mohan\").        "
   ]
  },
  {
   "cell_type": "markdown",
   "id": "35986698-d710-4ddd-8a85-a5ff5951bccf",
   "metadata": {},
   "source": [
    "#### Question 1.4.Find the output of the following."
   ]
  },
  {
   "cell_type": "code",
   "execution_count": 79,
   "id": "618ebf0d-067e-4c0b-a489-5ce4737d3461",
   "metadata": {},
   "outputs": [
    {
     "name": "stdout",
     "output_type": "stream",
     "text": [
      "2\n",
      "4\n",
      "7\n"
     ]
    }
   ],
   "source": [
    "animal = ['Human', 'cat', 'mat', 'cat', 'rat', 'Human', 'Lion'] \n",
    "print(animal.count('Human')) # Counts occurrences of 'Human'\n",
    "print(animal.index('rat')) # Finds the index of 'rat'\n",
    "print(len(animal))  # Prints the length of the list"
   ]
  },
  {
   "cell_type": "markdown",
   "id": "3e9687c8-d5ff-4c2a-86a4-9fc63da45b77",
   "metadata": {},
   "source": [
    "#### Question 1.5. "
   ]
  },
  {
   "cell_type": "code",
   "execution_count": 81,
   "id": "20f1fb81-e152-4e9d-a9a2-191b8314d418",
   "metadata": {},
   "outputs": [],
   "source": [
    "tuple1 = (10, 20, \"Apple\", 3.4, 'a', [\"master\", \"ji\"], (\"sita\", \"geeta\", 22), [{\"roll_no\": 1}, {\"name\": \"Navneet\"}])"
   ]
  },
  {
   "cell_type": "code",
   "execution_count": 83,
   "id": "d0757b38-dacf-444b-83e9-603884a86283",
   "metadata": {},
   "outputs": [
    {
     "name": "stdout",
     "output_type": "stream",
     "text": [
      "8\n"
     ]
    }
   ],
   "source": [
    "# a) \n",
    "print(len(tuple1))"
   ]
  },
  {
   "cell_type": "code",
   "execution_count": 86,
   "id": "04ec1974-9e8e-47f1-bc37-e8cd7a6b2079",
   "metadata": {},
   "outputs": [
    {
     "name": "stdout",
     "output_type": "stream",
     "text": [
      "Navneet\n"
     ]
    }
   ],
   "source": [
    "# b)\n",
    "print(tuple1[-1][-1]['name'])"
   ]
  },
  {
   "cell_type": "code",
   "execution_count": 87,
   "id": "0a4dd430-76a0-40fa-8dfc-50a6ef7569f7",
   "metadata": {},
   "outputs": [
    {
     "name": "stdout",
     "output_type": "stream",
     "text": [
      "1\n"
     ]
    }
   ],
   "source": [
    "# c) fetch the value of roll_no from this tuple. \n",
    "print(tuple1[-1][0]['roll_no'])"
   ]
  },
  {
   "cell_type": "code",
   "execution_count": 88,
   "id": "a862bf7f-24db-4d12-bb7b-dc50f3b6d8ef",
   "metadata": {},
   "outputs": [
    {
     "name": "stdout",
     "output_type": "stream",
     "text": [
      "ji\n"
     ]
    }
   ],
   "source": [
    "# d)\n",
    "print(tuple1[-3][1])"
   ]
  },
  {
   "cell_type": "code",
   "execution_count": 89,
   "id": "a4453f46-df24-48f2-9701-7cc289e91176",
   "metadata": {},
   "outputs": [
    {
     "name": "stdout",
     "output_type": "stream",
     "text": [
      "22\n"
     ]
    }
   ],
   "source": [
    "# e) fetch the element \"22\" from this tuple. \n",
    "print(tuple1[-2][2])"
   ]
  },
  {
   "cell_type": "markdown",
   "id": "8d678f0e-1e8c-456c-aa50-9f73aee8e857",
   "metadata": {},
   "source": [
    "#### 1.6. Write a program to display the appropriate message as per the color of signal(RED-Stop/Yellow-Stay/ Green-Go) at the road crossing. "
   ]
  },
  {
   "cell_type": "code",
   "execution_count": 90,
   "id": "3f8f057d-1340-4954-8529-1093ed75d2bb",
   "metadata": {},
   "outputs": [
    {
     "name": "stdin",
     "output_type": "stream",
     "text": [
      "Enter the color of the signal (RED, YELLOW, GREEN):  yellow\n"
     ]
    },
    {
     "name": "stdout",
     "output_type": "stream",
     "text": [
      "Stay\n"
     ]
    }
   ],
   "source": [
    "def traffic_signal_message(color):\n",
    "    if color == 'RED':\n",
    "        return \"Stop\"\n",
    "    elif color == 'YELLOW':\n",
    "        return \"Stay\"\n",
    "    elif color == 'GREEN':\n",
    "        return \"Go\"\n",
    "\n",
    "signal_color = input(\"Enter the color of the signal (RED, YELLOW, GREEN): \").strip().upper()\n",
    "\n",
    "message = traffic_signal_message(signal_color)\n",
    "print(message)"
   ]
  },
  {
   "cell_type": "markdown",
   "id": "c3040bfc-39d5-469e-9d31-818b6411b46d",
   "metadata": {},
   "source": [
    "#### 1.7. Write a program to create a simple calculator performing only four basic operations(+,-,/,*)."
   ]
  },
  {
   "cell_type": "code",
   "execution_count": 96,
   "id": "4c8a5795-991e-408c-9757-cab7a2987423",
   "metadata": {},
   "outputs": [
    {
     "name": "stdin",
     "output_type": "stream",
     "text": [
      "Enter first number:  34\n",
      "Enter second number:  21\n",
      "choose operation (+, -, *, /):  +\n"
     ]
    },
    {
     "name": "stdout",
     "output_type": "stream",
     "text": [
      "55\n"
     ]
    }
   ],
   "source": [
    "def calculator(a, b, operator):\n",
    "    if operator == '+':\n",
    "        return a+b\n",
    "    elif operator == '-':\n",
    "        return a-b\n",
    "    elif operator == '*':\n",
    "        return a*b\n",
    "    elif operator == '/':\n",
    "        if b==0:\n",
    "            return 'Can not divide by 0'\n",
    "        return a/b\n",
    "\n",
    "num1 = int(input(\"Enter first number: \"))\n",
    "num2 = int(input(\"Enter second number: \"))\n",
    "operator = input(\"choose operation (+, -, *, /): \")\n",
    "\n",
    "print(calculator(a=num1, b=num2, operator=operator))"
   ]
  },
  {
   "cell_type": "markdown",
   "id": "983ba23f-2e34-422b-8878-2b36b633b6b6",
   "metadata": {},
   "source": [
    "#### 1.8. Write a program to find the larger of the three pre-specified numbers using ternary operators. "
   ]
  },
  {
   "cell_type": "code",
   "execution_count": 97,
   "id": "85c8a2d5-edc1-48ab-be5f-7de4a20c2a0c",
   "metadata": {},
   "outputs": [
    {
     "name": "stdout",
     "output_type": "stream",
     "text": [
      "The largest number is: 20\n"
     ]
    }
   ],
   "source": [
    "num1 = 10\n",
    "num2 = 20\n",
    "num3 = 15\n",
    "\n",
    "largest = num1 if (num1 > num2 and num1 > num3) else (num2 if num2 > num3 else num3)\n",
    "\n",
    "print(\"The largest number is:\", largest)"
   ]
  },
  {
   "cell_type": "markdown",
   "id": "218b7476-038e-493e-88df-46043cf66b06",
   "metadata": {},
   "source": [
    "#### 1.9. Write a program to find the factors of a whole number using a while loop. "
   ]
  },
  {
   "cell_type": "code",
   "execution_count": 98,
   "id": "4b1bc88f-985f-42d8-9838-9e60c2c66151",
   "metadata": {},
   "outputs": [
    {
     "name": "stdin",
     "output_type": "stream",
     "text": [
      "Enter a whole number:  24\n"
     ]
    },
    {
     "name": "stdout",
     "output_type": "stream",
     "text": [
      "Factors of 24 are: [1, 2, 3, 4, 6, 8, 12, 24]\n"
     ]
    }
   ],
   "source": [
    "def find_factors(number):\n",
    "    factors = []\n",
    "    i = 1\n",
    "    while i <= number:\n",
    "        if number % i == 0:\n",
    "            factors.append(i)\n",
    "        i += 1\n",
    "    return factors\n",
    "\n",
    "num = int(input(\"Enter a whole number: \"))\n",
    "\n",
    "factors = find_factors(num)\n",
    "\n",
    "print(\"Factors of\", num, \"are:\", factors)"
   ]
  },
  {
   "cell_type": "markdown",
   "id": "8166c660-d317-4c00-96b3-681efa9daefd",
   "metadata": {},
   "source": [
    "#### 1.10. Write a program to find the sum of all the positive numbers entered by the user. As soon as the user enters a negative number, stop taking in any further input from the user and display the sum. "
   ]
  },
  {
   "cell_type": "code",
   "execution_count": 3,
   "id": "401194ea-0dc6-435c-b64b-487059f7e4d1",
   "metadata": {},
   "outputs": [
    {
     "name": "stdin",
     "output_type": "stream",
     "text": [
      "Enter a positive number:  3\n",
      "Enter a positive number:  2\n",
      "Enter a positive number:  1\n",
      "Enter a positive number:  -2\n"
     ]
    },
    {
     "name": "stdout",
     "output_type": "stream",
     "text": [
      "Sum of all positive numbers entered: 6\n"
     ]
    }
   ],
   "source": [
    "run = True\n",
    "l = []\n",
    "\n",
    "while run:\n",
    "    num = int(input(\"Enter a positive number: \"))\n",
    "    if num < 0:\n",
    "        run = False\n",
    "    else:\n",
    "        l.append(num)\n",
    "\n",
    "sum_of_numbers = sum(l)\n",
    "print(\"Sum of all positive numbers entered:\", sum_of_numbers)"
   ]
  },
  {
   "cell_type": "markdown",
   "id": "161d45b4-32d6-4420-91f3-f9b076321790",
   "metadata": {},
   "source": [
    "#### 1.11. Write a program to find prime numbers between 2 to 100 using nested for loops. "
   ]
  },
  {
   "cell_type": "code",
   "execution_count": 2,
   "id": "c4c377b8-6f82-473a-a000-28c44cc62388",
   "metadata": {},
   "outputs": [
    {
     "name": "stdout",
     "output_type": "stream",
     "text": [
      "2\n",
      "3\n",
      "5\n",
      "7\n",
      "11\n",
      "13\n",
      "17\n",
      "19\n",
      "23\n",
      "29\n",
      "31\n",
      "37\n",
      "41\n",
      "43\n",
      "47\n",
      "53\n",
      "59\n",
      "61\n",
      "67\n",
      "71\n",
      "73\n",
      "79\n",
      "83\n",
      "89\n",
      "97\n"
     ]
    }
   ],
   "source": [
    "for num in range(2, 101):\n",
    "    for i in range(2, num):\n",
    "        if num%i == 0:\n",
    "            break\n",
    "    else:\n",
    "        print(num)"
   ]
  },
  {
   "cell_type": "markdown",
   "id": "9ca2d474-f920-4750-8227-243d5ef2057b",
   "metadata": {},
   "source": [
    "#### 1.12. Write the programs for the following: \n",
    "+ Accept the marks of the student in five major subjects and display the same. \n",
    "« Calculate the sum of the marks of all subjects.Divide the total marks by number of subjects (i.e. 5), calculate \n",
    "percentage = total marks/5 and display the percentage. \n",
    "+ Find the grade of the student as per the following criteria . Hint: Use Match & case for this.: \n",
    "Criteria Grade \n",
    "percentage > 85 A \n",
    "percentage < 85 && percentage >= 75 B \n",
    "percentage < 75 && percentage >= 50 C \n",
    "percentage > 30 && percentage <= 50 D \n",
    "percentage <30 Reappear "
   ]
  },
  {
   "cell_type": "code",
   "execution_count": 8,
   "id": "7fffd7b8-df12-4f26-aae8-5740b6e4e32f",
   "metadata": {},
   "outputs": [
    {
     "name": "stdin",
     "output_type": "stream",
     "text": [
      "write marks of subject 1 67\n",
      "write marks of subject 2 78\n",
      "write marks of subject 3 89\n",
      "write marks of subject 4 81\n",
      "write marks of subject 5 79\n"
     ]
    },
    {
     "name": "stdout",
     "output_type": "stream",
     "text": [
      "Marks in subject 1 is 67.0\n",
      "Marks in subject 2 is 78.0\n",
      "Marks in subject 3 is 89.0\n",
      "Marks in subject 4 is 81.0\n",
      "Marks in subject 5 is 79.0\n",
      "Grade is B\n"
     ]
    }
   ],
   "source": [
    "marks = []\n",
    "for i in range(5):\n",
    "    mark = float(input(f\"write marks of subject {i+1}\"))\n",
    "    marks.append(mark)\n",
    "    \n",
    "for i in range(len(marks)):\n",
    "    print(f\"Marks in subject {i+1} is {marks[i]}\")\n",
    "\n",
    "percentage = (sum(marks)/len(marks))\n",
    "\n",
    "if percentage > 85:\n",
    "    print(\"Grade is A\")\n",
    "elif percentage < 85 and percentage >= 75:\n",
    "    print(\"Grade is B\")\n",
    "elif percentage < 75 and percentage >= 50:\n",
    "    print(\"Grade is C\")\n",
    "elif percentage > 30 and percentage <= 50:\n",
    "    print(\"Grade is D\")\n",
    "if percentage < 30:\n",
    "    print(\"Reappear\")"
   ]
  },
  {
   "cell_type": "markdown",
   "id": "2555eb72-530d-4214-bcf8-93573202f6f3",
   "metadata": {},
   "source": [
    "#### 1.13. Write a program for VIBGYOR Spectrum based on their Wavelength using. Wavelength Range:\n",
    "##### violet 400.0 -440.0\n",
    "##### indigo 440.0-460.0\n",
    "##### blue 460.0-500.0\n",
    "##### green 500.0-570.0\n",
    "##### yellow 570.0-590.0\n",
    "##### orange 590.0-620.0\n",
    "##### red 620.0-720.0"
   ]
  },
  {
   "cell_type": "code",
   "execution_count": 2,
   "id": "3ab215c9-7b9e-426e-8940-8146a8f21494",
   "metadata": {},
   "outputs": [
    {
     "name": "stdin",
     "output_type": "stream",
     "text": [
      "Enter the wavelength in nanometers:  465\n"
     ]
    },
    {
     "name": "stdout",
     "output_type": "stream",
     "text": [
      "The color corresponding to the wavelength 465.0 nm is Blue.\n"
     ]
    }
   ],
   "source": [
    "def identify_color(wavelength):\n",
    "    if 400.0 <= wavelength < 440.0:\n",
    "        return \"Violet\"\n",
    "    elif 440.0 <= wavelength < 460.0:\n",
    "        return \"Indigo\"\n",
    "    elif 460.0 <= wavelength < 500.0:\n",
    "        return \"Blue\"\n",
    "    elif 500.0 <= wavelength < 570.0:\n",
    "        return \"Green\"\n",
    "    elif 570.0 <= wavelength < 590.0:\n",
    "        return \"Yellow\"\n",
    "    elif 590.0 <= wavelength < 620.0:\n",
    "        return \"Orange\"\n",
    "    elif 620.0 <= wavelength < 720.0:\n",
    "        return \"Red\"\n",
    "\n",
    "wavelength = float(input(\"Enter the wavelength in nanometers: \"))\n",
    "\n",
    "color = identify_color(wavelength)\n",
    "print(f\"The color corresponding to the wavelength {wavelength} nm is {color}.\")"
   ]
  },
  {
   "cell_type": "markdown",
   "id": "49640006-1000-449d-8b52-4252c515aafc",
   "metadata": {},
   "source": [
    "#### 1.14.Consider the gravitational interactions between the Earth, Moon, and Sun in our solar system. Given: \n",
    "mass_earth = 5.972e24 # Mass of Earth in kilograms \n",
    "mass_moon = 7.34767309e22 # Mass of Moon in kilograms \n",
    "mass_sun =1.989e30 # Mass of Sun in kilograms \n",
    "distance_earth_sun = 1.496ell # Average distance between Earth and Sun in meters \n",
    "distance_moon_earth = 3.844e8 # Average distance between Moon and Earth in meters \n",
    "Tasks: \n",
    "+ Calculate the gravitational force between the Earth and the Sun. \n",
    "+ Calculate the gravitational force between the Moon and the Earth. \n",
    "+ Compare the calculated forces to determine which gravitational force is stronger. \n",
    "« Explain which celestial body (Earth or Moon) is more attracted to the other based on the comparison. \n"
   ]
  },
  {
   "cell_type": "code",
   "execution_count": 3,
   "id": "f49745fe-f789-48ca-a311-fe6601c0a9e3",
   "metadata": {},
   "outputs": [],
   "source": [
    "mass_earth = 5.972e24 # Mass of Earth in kilograms \n",
    "mass_moon = 7.34767309e22 # Mass of Moon in kilograms \n",
    "mass_sun =1.989e30 # Mass of Sun in kilograms \n",
    "distance_earth_sun = 1.496e11 # Average distance between Earth and Sun in meters \n",
    "distance_moon_earth = 3.844e8 # Average distance between Moon and Earth in meters "
   ]
  },
  {
   "cell_type": "code",
   "execution_count": 6,
   "id": "54f583a5-6e47-43be-948e-be5dc0e45f3b",
   "metadata": {},
   "outputs": [
    {
     "name": "stdout",
     "output_type": "stream",
     "text": [
      "Gravitational force between Earth and Sun: 3.54e+22 N\n",
      "Gravitational force between Moon and Earth: 1.98e+20 N\n",
      "Comparison: Earth is more attracted to the Sun.\n"
     ]
    }
   ],
   "source": [
    "G = 6.67430e-11  # Gravitational constant\n",
    "force_earth_sun = G * (mass_earth * mass_sun) / distance_earth_sun**2\n",
    "force_moon_earth = G * (mass_moon * mass_earth) / distance_moon_earth**2\n",
    "\n",
    "print(f\"Gravitational force between Earth and Sun: {force_earth_sun:.2e} N\")\n",
    "print(f\"Gravitational force between Moon and Earth: {force_moon_earth:.2e} N\")\n",
    "\n",
    "if force_earth_sun > force_moon_earth:\n",
    "    stronger_force = \"Earth is more attracted to the Sun.\"\n",
    "else:\n",
    "    stronger_force = \"Moon is more attracted to the Earth.\"\n",
    "\n",
    "print(f\"Comparison: {stronger_force}\")\n",
    "\n",
    "# The Earth is more strongly attracted to the Sun due to the larger mass and the greater distance between\n",
    "# the Earth and the Moon results in a smaller gravitational force."
   ]
  },
  {
   "cell_type": "markdown",
   "id": "be7071f1-5b26-4d18-94aa-7e5948336e6f",
   "metadata": {},
   "source": [
    "#### 2. Design and implement a Python program for managing student information using object-oriented principles.\n",
    "#### Create a class called ‘Student’ with encapsulated attributes for name, age, and roll number.\n",
    "#### Implement getter and setter methods for these attributes. Additionally, provide methods to display student information and update student details. \n",
    "Tasks: \n",
    "+ Define the \"Student’ class with encapsulated attributes. \n",
    "+ Implement getter and setter methods for the attributes. \n",
    "+ Write methods to display student information and update details. \n",
    "+ Create instances of the “Student” class and test the implemented functionality. "
   ]
  },
  {
   "cell_type": "code",
   "execution_count": 10,
   "id": "270d3642-996b-4e58-a88a-12dadccd774a",
   "metadata": {},
   "outputs": [
    {
     "name": "stdout",
     "output_type": "stream",
     "text": [
      "Name: Rohit\n",
      "Age: 25\n",
      "Roll number: 101\n",
      "Rohan\n",
      "26\n",
      "102\n",
      "Name: Mohit\n",
      "Age: 25\n",
      "Roll number: 111\n"
     ]
    }
   ],
   "source": [
    "class Student:\n",
    "    def __init__(self, name, age, roll_number):\n",
    "        self.__name = name\n",
    "        self.__age = age\n",
    "        self.__roll_number = roll_number\n",
    "        \n",
    "    def get_name(self):\n",
    "        return self.__name\n",
    "    \n",
    "    def set_name(self, name):\n",
    "        self.__name = name\n",
    "        \n",
    "    def get_age(self):\n",
    "        return self.__age\n",
    "    \n",
    "    def set_age(self, age):\n",
    "        self.__age = age\n",
    "    \n",
    "    def get_roll_number(self):\n",
    "        return self.__roll_number\n",
    "    \n",
    "    def set_roll_number(self, roll_number):\n",
    "        self.__roll_number = roll_number\n",
    "        \n",
    "    def display(self):\n",
    "        return f\"Name: {self.__name}\\nAge: {self.__age}\\nRoll number: {self.__roll_number}\"\n",
    "    \n",
    "    def update(self, name, age, roll_number):\n",
    "        self.__name = name\n",
    "        self.__age = age\n",
    "        self.__roll_number = roll_number\n",
    "    \n",
    "    \n",
    "    \n",
    "student1 = Student('Rohit', 25, 101)\n",
    "print(student1.display())\n",
    "\n",
    "student1.set_name('Rohan')\n",
    "print(student1.get_name())\n",
    "\n",
    "student1.set_age(26)\n",
    "print(student1.get_age())\n",
    "\n",
    "student1.set_roll_number(102)\n",
    "print(student1.get_roll_number())\n",
    "\n",
    "\n",
    "student1.update('Mohit', 25, 111)\n",
    "print(student1.display())"
   ]
  },
  {
   "cell_type": "markdown",
   "id": "5bb1d287-2f46-4d66-80ac-a61bf173417e",
   "metadata": {},
   "source": [
    "#### 3.Develop a Python program for managing library resources efficiently. Design a class named ‘LibraryBook™ \n",
    "#### with attributes like book name, author, and availability status. Implement methods for borrowing and \n",
    "#### returning books while ensuring proper encapsulation of attributes. \n",
    "Tasks: \n",
    "+ 1. Create the \"LibraryBook’ class with encapsulated attributes. \n",
    "+ 2. Implement methods for borrowing and returning books. \n",
    "+ 3. Ensure proper encapsulation to protect book details. \n",
    "+ 4. Test the borrowing and returning functionality with sample data. "
   ]
  },
  {
   "cell_type": "code",
   "execution_count": 3,
   "id": "5876f085-2d1c-4a07-aae1-eaf189f0c67b",
   "metadata": {},
   "outputs": [
    {
     "name": "stdout",
     "output_type": "stream",
     "text": [
      "'To Kill a Mockingbird' has been borrowed.\n",
      "'1984' is currently not available.\n",
      "'To Kill a Mockingbird' has been returned.\n"
     ]
    }
   ],
   "source": [
    "class LibraryBook:\n",
    "    def __init__(self, book_name, author, availability_status=True):\n",
    "        self.__book_name = book_name\n",
    "        self.__author = author\n",
    "        self.__availability_status = availability_status\n",
    "            \n",
    "    def borrow_book(self):\n",
    "        if self.__availability_status:\n",
    "            self.__availability_status = False\n",
    "            return f\"'{self.__book_name}' has been borrowed.\"\n",
    "        else:\n",
    "            return f\"'{self.__book_name}' is currently not available.\"\n",
    "\n",
    "    def return_book(self):\n",
    "        if not self.__availability_status:\n",
    "            self.__availability_status = True\n",
    "            return f\"'{self.__book_name}' has been returned.\"\n",
    "        else:\n",
    "            return f\"'{self.__book_name}' was not borrowed.\"\n",
    "        \n",
    "book1 = LibraryBook(\"To Kill a Mockingbird\", \"Harper Lee\")\n",
    "book2 = LibraryBook(\"1984\", \"George Orwell\", availability_status=False)\n",
    "\n",
    "print(book1.borrow_book())\n",
    "print(book2.borrow_book())\n",
    "print(book1.return_book())"
   ]
  },
  {
   "cell_type": "markdown",
   "id": "32cfe328-7e83-41c1-8be4-6f58f54d5a2d",
   "metadata": {},
   "source": [
    "#### 4.Create a simple banking system using object-oriented concepts in Python. Design classes representing \n",
    "#### different types of bank accounts such as savings and checking. Implement methods for deposit, withdraw, \n",
    "#### and balance inquiry. Utilize inheritance to manage different account types efficiently. \n",
    "Tasks: \n",
    "+ 1. Define base class(es) for bank accounts with common attributes and methods. \n",
    "+ 2. Implement subclasses for specific account types (e.g., SavingsAccount, CheckingAccount). \n",
    "+ 3. Provide methods for deposit, withdraw, and balance inquiry in each subclass. \n",
    "+ 4. Test the banking system by creating instances of different account types and performing transactions. \n"
   ]
  },
  {
   "cell_type": "code",
   "execution_count": 16,
   "id": "62d2f774-0a5f-4b84-8779-46ff4b63727f",
   "metadata": {},
   "outputs": [
    {
     "name": "stdout",
     "output_type": "stream",
     "text": [
      "\n",
      "--- Transactions of savings account ---\n",
      "Available balance: 10000.0 Rs.\n",
      "Deposited 500 Rs. New balance: 10500.0 Rs.\n",
      "Interest added. New balance: 10815.0 Rs.\n",
      "Available balance: 10815.0 Rs.\n",
      "Withdrew 200 Rs. New balance: 10615.0 Rs.\n",
      "Available balance: 10615.0 Rs.\n",
      "\n",
      "--- Transactions of checking account ---\n",
      "Available balance: 5000.0 Rs.\n",
      "Deposited 300 Rs. New balance: 5300.0 Rs.\n",
      "Withdrew 700 Rs. New balance: 4600.0 Rs.\n",
      "Available balance: 4600.0 Rs.\n",
      "Exceeded overdraft limit. Cannot withdraw 4300 Rs.\n",
      "Available balance: 4600.0 Rs.\n"
     ]
    }
   ],
   "source": [
    "class BankAccount:\n",
    "    def __init__(self, account_number, account_holder, balance=0.0):\n",
    "        self.account_number = account_number\n",
    "        self.account_holder = account_holder\n",
    "        self.__balance = balance\n",
    "\n",
    "    def deposit(self, amount):\n",
    "        if amount > 0:\n",
    "            self.__balance += amount\n",
    "            return f\"Deposited {amount} Rs. New balance: {self.__balance} Rs.\"\n",
    "        else:\n",
    "            return \"Deposit amount must be positive.\"\n",
    "\n",
    "    def withdraw(self, amount):\n",
    "        if amount > 0:\n",
    "            if amount <= self.__balance:\n",
    "                self.__balance -= amount\n",
    "                return f\"Withdrew {amount} Rs. New balance: {self.__balance} Rs.\"\n",
    "            else:\n",
    "                return \"Insufficient funds.\"\n",
    "        else:\n",
    "            return \"Withdrawal amount must be positive.\"\n",
    "\n",
    "    def get_balance(self):\n",
    "        return f\"Available balance: {self.__balance} Rs.\"\n",
    "\n",
    "    \n",
    "\n",
    "class SavingsAccount(BankAccount):\n",
    "    def __init__(self, account_number, account_holder, balance=0.0, interest_rate=0.02):\n",
    "        super().__init__(account_number, account_holder, balance)\n",
    "        self.interest_rate = interest_rate\n",
    "\n",
    "    def add_interest(self):\n",
    "        interest = self._BankAccount__balance * self.interest_rate\n",
    "        self._BankAccount__balance += interest\n",
    "        return f\"Interest added. New balance: {self._BankAccount__balance} Rs.\"\n",
    "\n",
    "\n",
    "\n",
    "class CheckingAccount(BankAccount):\n",
    "    __overdraft_limit = 500.0\n",
    "    def __init__(self, account_number, account_holder, balance=0.0):\n",
    "        super().__init__(account_number, account_holder, balance)\n",
    "\n",
    "    def withdraw(self, amount):\n",
    "        if amount > 0:\n",
    "            if amount <= self._BankAccount__balance - CheckingAccount.__overdraft_limit:\n",
    "                self._BankAccount__balance -= amount\n",
    "                return f\"Withdrew {amount} Rs. New balance: {self._BankAccount__balance} Rs.\"\n",
    "            else:\n",
    "                return f\"Exceeded overdraft limit. Cannot withdraw {amount} Rs.\"\n",
    "        else:\n",
    "            return \"Withdrawal amount must be positive.\"\n",
    "        \n",
    "\n",
    "savings = SavingsAccount(\"SA123456\", \"Mohit\", 10000.0, 0.03)\n",
    "checking = CheckingAccount(\"CA123456\", \"Bob\", 5000.0)\n",
    "\n",
    "\n",
    "print(\"\\n--- Transactions of savings account ---\")\n",
    "print(savings.get_balance())\n",
    "print(savings.deposit(500))\n",
    "print(savings.add_interest())\n",
    "print(savings.get_balance())\n",
    "print(savings.withdraw(200))\n",
    "print(savings.get_balance())\n",
    "\n",
    "print(\"\\n--- Transactions of checking account ---\")\n",
    "print(checking.get_balance())\n",
    "print(checking.deposit(300))\n",
    "print(checking.withdraw(700))\n",
    "print(checking.get_balance())\n",
    "print(checking.withdraw(4300))\n",
    "print(checking.get_balance())"
   ]
  },
  {
   "cell_type": "markdown",
   "id": "04ccdca3-1da9-4619-bbb3-17eccfdff05f",
   "metadata": {},
   "source": [
    "#### 5.Write a Python program that models different animals and their sounds. Design a base class called \n",
    "#### “Animal’ with a method ‘make_sound()\". Create subclasses like ‘Dog and \"Cat’ that override the \n",
    "#### “make_sound()” method to produce appropriate sounds. \n",
    "Tasks: \n",
    "+ 1. Define the \"Animal’ class with a method ‘make_sound()\". \n",
    "+ 2. Create subclasses ‘Dog” and \"Cat” that override the ‘make_sound()” method. \n",
    "+ 3. Implement the sound generation logic for each subclass. \n",
    "+ 4. Test the program by creating instances of ‘Dog” and \"Cat™ and calling the ‘make_sound()” method. \n"
   ]
  },
  {
   "cell_type": "code",
   "execution_count": 17,
   "id": "bd3621e4-5c61-4cf1-8095-21758080a39b",
   "metadata": {},
   "outputs": [
    {
     "name": "stdout",
     "output_type": "stream",
     "text": [
      "Bark\n",
      "Meow\n"
     ]
    }
   ],
   "source": [
    "class Animal:\n",
    "    def make_sound(self):\n",
    "        return 'Animal sound'\n",
    "\n",
    "class Dog(Animal):\n",
    "    def make_sound(self):\n",
    "        return \"Bark\"\n",
    "    \n",
    "class Cat(Animal):\n",
    "    def make_sound(self):\n",
    "        return \"Meow\"\n",
    "    \n",
    "dog1 = Dog()\n",
    "cat1 = Cat()\n",
    "\n",
    "print(dog1.make_sound())\n",
    "print(cat1.make_sound())"
   ]
  },
  {
   "cell_type": "markdown",
   "id": "a488413a-1107-4f0a-9765-865201f008bd",
   "metadata": {},
   "source": [
    "#### 6.Write a code for Restaurant Management System Using OOPS: \n",
    "+ Create a Menultem class that has attributes such as name, description, price, and category. \n",
    "+ Implement methods to add a new menu item, update menu item information, and remove a menu item from the menu. \n",
    "+ Use encapsulation to hide the menu item'’s unique identification number. \n",
    "+ Inherit from the Menultem class to create a Fooditem class and a Beverageltem class, each with their own specific attributes and methods. "
   ]
  },
  {
   "cell_type": "code",
   "execution_count": 48,
   "id": "96a8d8ee-cc33-460e-8f68-60b2969113c8",
   "metadata": {},
   "outputs": [
    {
     "name": "stdout",
     "output_type": "stream",
     "text": [
      "Name: Pasta\n",
      "Description: Creamy Alfredo pasta\n",
      "Price: 12.99\n",
      "Category: Main Course\n",
      "Cuisine Type: Italian\n",
      "*************************\n",
      "Name: Cola\n",
      "Description: Chilled cola\n",
      "Price: 2.99\n",
      "Category: Beverage\n",
      "Beverage Type: Soft Drink\n",
      "*************************\n",
      "Name: Coffee\n",
      "Description: Hot brewed coffee\n",
      "Price: 3.49\n",
      "Category: Beverage\n",
      "Beverage Type: Hot Drink\n",
      "*************************\n",
      "Name: Burger\n",
      "Description: Beef burger with cheese\n",
      "Price: 9.99\n",
      "Category: Main Course\n",
      "Cuisine Type: American\n",
      "*************************\n",
      "Name: Pepsi\n",
      "Description: Chilled Pepsi\n",
      "Price: 2.99\n",
      "Category: Beverage\n",
      "Beverage Type: Soft Drink\n"
     ]
    }
   ],
   "source": [
    "class MenuItem:\n",
    "    menu_items = []\n",
    "\n",
    "    def __init__(self, id_number, name, description, price, category):\n",
    "        self.__id_number = id_number\n",
    "        self.name = name\n",
    "        self.description = description\n",
    "        self.price = price\n",
    "        self.category = category\n",
    "        MenuItem.menu_items.append(self)\n",
    "\n",
    "    def get_id(self):\n",
    "        return self.__id_number\n",
    "\n",
    "    def update_item(self, name=None, description=None, price=None, category=None):\n",
    "        if name is not None:\n",
    "            self.name = name\n",
    "        if description is not None:\n",
    "            self.description = description\n",
    "        if price is not None:\n",
    "            self.price = price\n",
    "        if category is not None:\n",
    "            self.category = category\n",
    "\n",
    "    @classmethod\n",
    "    def remove_item(cls, id_number):\n",
    "        item = next((i for i in cls.menu_items if i.__id_number == id_number), None)\n",
    "        if item:\n",
    "            cls.menu_items.remove(item)\n",
    "\n",
    "    @classmethod\n",
    "    def add_item(cls, id_number, name, description, price, category):\n",
    "        item = cls(id_number, name, description, price, category)\n",
    "        cls.menu_items.append(item)\n",
    "        return item\n",
    "\n",
    "    def __str__(self):\n",
    "        return (f\"Name: {self.name}\\n\"\n",
    "                f\"Description: {self.description}\\n\"\n",
    "                f\"Price: {self.price}\\n\"\n",
    "                f\"Category: {self.category}\")\n",
    "\n",
    "\n",
    "class FoodItem(MenuItem):\n",
    "    def __init__(self, id_number, name, description, price, category, cuisine_type):\n",
    "        super().__init__(id_number, name, description, price, category)\n",
    "        self.cuisine_type = cuisine_type\n",
    "\n",
    "    def update_item(self, name=None, description=None, price=None, category=None, cuisine_type=None):\n",
    "        super().update_item(name, description, price, category)\n",
    "        if cuisine_type is not None:\n",
    "            self.cuisine_type = cuisine_type\n",
    "\n",
    "    @classmethod\n",
    "    def add_item(cls, id_number, name, description, price, category, cuisine_type):\n",
    "        item = cls(id_number, name, description, price, category, cuisine_type)\n",
    "        cls.menu_items.append(item)\n",
    "        return item\n",
    "\n",
    "    def __str__(self):\n",
    "        return (f\"{super().__str__()}\\n\"\n",
    "                f\"Cuisine Type: {self.cuisine_type}\")\n",
    "\n",
    "\n",
    "class BeverageItem(MenuItem):\n",
    "    def __init__(self, id_number, name, description, price, category, beverage_type):\n",
    "        super().__init__(id_number, name, description, price, category)\n",
    "        self.beverage_type = beverage_type\n",
    "\n",
    "    def update_item(self, name=None, description=None, price=None, category=None, beverage_type=None):\n",
    "        super().update_item(name, description, price, category)\n",
    "        if beverage_type is not None:\n",
    "            self.beverage_type = beverage_type\n",
    "\n",
    "    @classmethod\n",
    "    def add_item(cls, id_number, name, description, price, category, beverage_type):\n",
    "        item = cls(id_number, name, description, price, category, beverage_type)\n",
    "        cls.menu_items.append(item)\n",
    "        return item\n",
    "\n",
    "    def __str__(self):\n",
    "        return (f\"{super().__str__()}\\n\"\n",
    "                f\"Beverage Type: {self.beverage_type}\")\n",
    "\n",
    "\n",
    "# Creating and printing items\n",
    "food1 = FoodItem(1, \"Pasta\", \"Creamy Alfredo pasta\", 12.99, \"Main Course\", \"Italian\")\n",
    "beverage1 = BeverageItem(3, \"Cola\", \"Chilled cola\", 2.99, \"Beverage\", \"Soft Drink\")\n",
    "beverage2 = BeverageItem(4, \"Coffee\", \"Hot brewed coffee\", 3.49, \"Beverage\", \"Hot Drink\")\n",
    "\n",
    "print(food1)\n",
    "print('*' * 25)\n",
    "print(beverage1)\n",
    "print('*' * 25)\n",
    "print(beverage2)\n",
    "print('*' * 25)\n",
    "\n",
    "food2 = FoodItem.add_item(2, \"Burger\", \"Beef burger with cheese\", 9.99, \"Main Course\", \"American\")\n",
    "print(food2)\n",
    "print('*' * 25)\n",
    "beverage1.update_item(name='Pepsi', description='Chilled Pepsi')\n",
    "print(beverage1)"
   ]
  },
  {
   "cell_type": "markdown",
   "id": "03c519a9-bddb-48cd-86fd-ce431d2e981e",
   "metadata": {},
   "source": [
    "#### 7.Write a code for Hotel Management System using OOPS : \n",
    "+ Create a Room class that has attributes such as room number, room type, rate, and availability (private). \n",
    "+ Implement methods to book a room, check in a guest, and check out a guest. \n",
    "+ Use encapsulation to hide the room’s unique identification number. \n",
    "+ Inherit from the Room class to create a SuiteRoom closs and a StandardRoom class, each with their own specific attributes and methods. "
   ]
  },
  {
   "cell_type": "code",
   "execution_count": 51,
   "id": "3cf02ce3-1735-47e2-85a2-c5b12fbba21b",
   "metadata": {},
   "outputs": [
    {
     "name": "stdout",
     "output_type": "stream",
     "text": [
      "Room 101 has been booked.\n",
      "Room 201 has been booked.\n",
      "Guest Guest 1 has checked into room 101.\n",
      "Guest Guest 2 has checked into room 201.\n",
      "*************************\n",
      "Room Number: 101\n",
      "Room Type: Suite\n",
      "Rate: $200\n",
      "Available: No\n",
      "Current Guest: Guest 1\n",
      "Has Jacuzzi: Yes\n",
      "Has Sea View: Yes\n",
      "*************************\n",
      "Room Number: 201\n",
      "Room Type: Standard\n",
      "Rate: $100\n",
      "Available: No\n",
      "Current Guest: Guest 2\n",
      "Has Window: Yes\n",
      "*************************\n",
      "Guest Guest 1 has checked out of room 101.\n",
      "Guest Guest 2 has checked out of room 201.\n",
      "*************************\n",
      "Room Number: 101\n",
      "Room Type: Suite\n",
      "Rate: $200\n",
      "Available: Yes\n",
      "Current Guest: None\n",
      "Has Jacuzzi: Yes\n",
      "Has Sea View: Yes\n",
      "*************************\n",
      "Room Number: 201\n",
      "Room Type: Standard\n",
      "Rate: $100\n",
      "Available: Yes\n",
      "Current Guest: None\n",
      "Has Window: Yes\n"
     ]
    }
   ],
   "source": [
    "class Room:\n",
    "    def __init__(self, room_number, room_type, rate):\n",
    "        self.__room_number = room_number\n",
    "        self.__room_type = room_type\n",
    "        self.__rate = rate\n",
    "        self.__available = True\n",
    "        self.__guest = None\n",
    "\n",
    "    def book_room(self):\n",
    "        if self.__available:\n",
    "            self.__available = False\n",
    "            print(f\"Room {self.__room_number} has been booked.\")\n",
    "        else:\n",
    "            print(f\"Room {self.__room_number} is not available.\")\n",
    "\n",
    "    def check_in(self, guest_name):\n",
    "        if self.__available:\n",
    "            print(f\"Room {self.__room_number} is available. Please book it first.\")\n",
    "        elif self.__guest:\n",
    "            print(f\"Room {self.__room_number} is already occupied by {self.__guest}.\")\n",
    "        else:\n",
    "            self.__guest = guest_name\n",
    "            print(f\"Guest {guest_name} has checked into room {self.__room_number}.\")\n",
    "\n",
    "    def check_out(self):\n",
    "        if not self.__guest:\n",
    "            print(f\"Room {self.__room_number} is not occupied.\")\n",
    "        else:\n",
    "            print(f\"Guest {self.__guest} has checked out of room {self.__room_number}.\")\n",
    "            self.__guest = None\n",
    "            self.__available = True\n",
    "\n",
    "    def get_room_info(self):\n",
    "        return (f\"Room Number: {self.__room_number}\\n\"\n",
    "                f\"Room Type: {self.__room_type}\\n\"\n",
    "                f\"Rate: ${self.__rate}\\n\"\n",
    "                f\"Available: {'Yes' if self.__available else 'No'}\\n\"\n",
    "                f\"Current Guest: {self.__guest if self.__guest else 'None'}\")\n",
    "\n",
    "\n",
    "class SuiteRoom(Room):\n",
    "    def __init__(self, room_number, rate, has_jacuzzi, has_sea_view):\n",
    "        super().__init__(room_number, \"Suite\", rate)\n",
    "        self.__has_jacuzzi = has_jacuzzi\n",
    "        self.__has_sea_view = has_sea_view\n",
    "\n",
    "    def get_room_info(self):\n",
    "        base_info = super().get_room_info()\n",
    "        return (f\"{base_info}\\n\"\n",
    "                f\"Has Jacuzzi: {'Yes' if self.__has_jacuzzi else 'No'}\\n\"\n",
    "                f\"Has Sea View: {'Yes' if self.__has_sea_view else 'No'}\")\n",
    "\n",
    "\n",
    "class StandardRoom(Room):\n",
    "    def __init__(self, room_number, rate, has_window):\n",
    "        super().__init__(room_number, \"Standard\", rate)\n",
    "        self.__has_window = has_window\n",
    "\n",
    "    def get_room_info(self):\n",
    "        base_info = super().get_room_info()\n",
    "        return (f\"{base_info}\\n\"\n",
    "                f\"Has Window: {'Yes' if self.__has_window else 'No'}\")\n",
    "\n",
    "\n",
    "\n",
    "suite1 = SuiteRoom(101, 200, True, True)\n",
    "standard1 = StandardRoom(201, 100, True)\n",
    "\n",
    "\n",
    "suite1.book_room()\n",
    "standard1.book_room()\n",
    "\n",
    "suite1.check_in(\"Guest 1\")\n",
    "standard1.check_in(\"Guest 2\")\n",
    "\n",
    "print('*' * 25)\n",
    "print(suite1.get_room_info())\n",
    "print('*' * 25)\n",
    "print(standard1.get_room_info())\n",
    "print('*' * 25)\n",
    "\n",
    "\n",
    "suite1.check_out()\n",
    "standard1.check_out()\n",
    "\n",
    "print('*' * 25)\n",
    "print(suite1.get_room_info())\n",
    "print('*' * 25)\n",
    "print(standard1.get_room_info())"
   ]
  },
  {
   "cell_type": "markdown",
   "id": "0f518edd-7103-4328-b737-87a0756a88d2",
   "metadata": {},
   "source": [
    "#### 8.Write a code for Fitness Club Management System using OOPS: \n",
    "+ Create a Member class that has attributes such as name, age, membership type, and membership status \n",
    "(private). \n",
    "+ Implement methods to register a new member, renew a membership, and cancel a membership. \n",
    "+ Use encapsulation to hide the member's unique identification number. \n",
    "+ Inherit from the Member class to create a FamilyMember class and an IndividualMember class, each with \n",
    "their own specific attributes and methods. "
   ]
  },
  {
   "cell_type": "code",
   "execution_count": 62,
   "id": "8954ebb7-7830-4e8c-9492-dd941eef3b93",
   "metadata": {},
   "outputs": [
    {
     "name": "stdout",
     "output_type": "stream",
     "text": [
      "*************************\n",
      "Name: Alex\n",
      "Age: 40\n",
      "Membership Type: Family\n",
      "Membership Status: Active\n",
      "Family Size: 4\n",
      "*************************\n",
      "Name: Bob\n",
      "Age: 30\n",
      "Membership Type: Individual\n",
      "Membership Status: Active\n",
      "Personal ID: ID12345\n",
      "*************************\n",
      "Name: Kiran\n",
      "Age: 32\n",
      "Membership Type: Family\n",
      "Membership Status: Active\n",
      "*************************\n",
      "Membership for Alex is already active.\n",
      "Membership for Bob is already active.\n",
      "*************************\n",
      "Family size updated to 5.\n",
      "Name: Alex\n",
      "Age: 40\n",
      "Membership Type: Family\n",
      "Membership Status: Active\n",
      "Family Size: 5\n",
      "*************************\n",
      "Membership for Alex has been canceled.\n",
      "Membership for Bob has been canceled.\n",
      "*************************\n",
      "Name: Alex\n",
      "Age: 40\n",
      "Membership Type: Family\n",
      "Membership Status: Inactive\n",
      "Family Size: 5\n",
      "*************************\n",
      "Name: Bob\n",
      "Age: 30\n",
      "Membership Type: Individual\n",
      "Membership Status: Inactive\n",
      "Personal ID: ID12345\n"
     ]
    }
   ],
   "source": [
    "class Member:\n",
    "    def __init__(self, member_id, name, age, membership_type):\n",
    "        self.__member_id = member_id \n",
    "        self.__name = name\n",
    "        self.__age = age\n",
    "        self.__membership_type = membership_type\n",
    "        self.__membership_status = 'Active'\n",
    "\n",
    "    @classmethod    \n",
    "    def register_member(cls, member_id, name, age, membership_type):\n",
    "          return Member(member_id, name, age, membership_type)\n",
    "          print(f\"Member {self.__name} has been registered successfully.\")\n",
    "\n",
    "    def renew_membership(self):\n",
    "        if self.__membership_status == 'Active':\n",
    "            print(f\"Membership for {self.__name} is already active.\")\n",
    "        else:\n",
    "            self.__membership_status = 'Active'\n",
    "            print(f\"Membership for {self.__name} has been renewed.\")\n",
    "\n",
    "    def cancel_membership(self):\n",
    "        if self.__membership_status == 'Inactive':\n",
    "            print(f\"Membership for {self.__name} is already inactive.\")\n",
    "        else:\n",
    "            self.__membership_status = 'Inactive'\n",
    "            print(f\"Membership for {self.__name} has been canceled.\")\n",
    "\n",
    "    def get_member_info(self):\n",
    "        return (f\"Name: {self.__name}\\n\"\n",
    "                f\"Age: {self.__age}\\n\"\n",
    "                f\"Membership Type: {self.__membership_type}\\n\"\n",
    "                f\"Membership Status: {self.__membership_status}\")\n",
    "\n",
    "    def get_member_id(self):\n",
    "        return self.__member_id\n",
    "\n",
    "\n",
    "\n",
    "class FamilyMember(Member):\n",
    "    def __init__(self, member_id, name, age, membership_type, family_size):\n",
    "        super().__init__(member_id, name, age, membership_type)\n",
    "        self.__family_size = family_size\n",
    "\n",
    "    def update_family_size(self, new_size):\n",
    "        self.__family_size = new_size\n",
    "        print(f\"Family size updated to {self.__family_size}.\")\n",
    "\n",
    "    def get_member_info(self):\n",
    "        base_info = super().get_member_info()\n",
    "        return (f\"{base_info}\\n\"\n",
    "                f\"Family Size: {self.__family_size}\")\n",
    "    \n",
    "\n",
    "\n",
    "class IndividualMember(Member):\n",
    "    def __init__(self, member_id, name, age, membership_type, personal_id):\n",
    "        super().__init__(member_id, name, age, membership_type)\n",
    "        self.__personal_id = personal_id\n",
    "\n",
    "    def get_personal_id(self):\n",
    "        return self.__personal_id\n",
    "\n",
    "    def get_member_info(self):\n",
    "        base_info = super().get_member_info()\n",
    "        return (f\"{base_info}\\n\"\n",
    "                f\"Personal ID: {self.__personal_id}\")\n",
    "\n",
    "\n",
    "    \n",
    "\n",
    "family_member = FamilyMember(1, \"Alex\", 40, \"Family\", 4)\n",
    "individual_member = IndividualMember(2, \"Bob\", 30, \"Individual\", \"ID12345\")\n",
    "\n",
    "\n",
    "individual_member2 = Member.register_member(3, \"Kiran\", 32, \"Family\")\n",
    "\n",
    "print('*' * 25)\n",
    "print(family_member.get_member_info())\n",
    "print('*' * 25)\n",
    "print(individual_member.get_member_info())\n",
    "print('*' * 25)\n",
    "print(individual_member2.get_member_info())\n",
    "print('*' * 25)\n",
    "\n",
    "family_member.renew_membership()\n",
    "individual_member.renew_membership()\n",
    "print('*' * 25)\n",
    "\n",
    "family_member.update_family_size(5)\n",
    "print(family_member.get_member_info())\n",
    "print('*' * 25)\n",
    "\n",
    "family_member.cancel_membership()\n",
    "individual_member.cancel_membership()\n",
    "\n",
    "print('*' * 25)\n",
    "print(family_member.get_member_info())\n",
    "print('*' * 25)\n",
    "print(individual_member.get_member_info())"
   ]
  },
  {
   "cell_type": "markdown",
   "id": "779cd6c9-521a-4744-9abe-c30e4a29f5c7",
   "metadata": {},
   "source": [
    "#### 9.Write a code for Event Management System using OOPS: \n",
    "+ Create an Event class that has attributes such as name, date, time, location, and list of attendees (private). \n",
    "+ Implement methods to create a new event, add or remove attendees, and get the total number of attendees. \n",
    "+ Use encapsulation to hide the event's unique identification number. \n",
    "+ Inherit from the Event class to create a PrivateEvent class and a PublicEvent class, each with their own specific attributes and methods. "
   ]
  },
  {
   "cell_type": "code",
   "execution_count": 73,
   "id": "899be4e3-1fc2-45ff-9258-38705e4b7d32",
   "metadata": {},
   "outputs": [
    {
     "name": "stdout",
     "output_type": "stream",
     "text": [
      "New event has been registered.\n",
      "Added attendees: ['Alice', 'Bob']\n",
      "Event Name: Tech Conference\n",
      "Date: 2024-08-01\n",
      "Time: 09:00\n",
      "Location: Convention Center\n",
      "Total no. of Attendees: ['Alice', 'Bob']\n",
      "*************************\n",
      "Event Name: Secret Gala\n",
      "Date: 2024-09-01\n",
      "Time: 19:00\n",
      "Location: Luxury Hotel\n",
      "Total no. of Attendees: ['John']\n",
      "Access Code: XYZ123\n",
      "*************************\n",
      "Added attendees: ['Jane']\n",
      "Removed attendees: John\n",
      "Event Name: Secret Gala\n",
      "Date: 2024-09-01\n",
      "Time: 19:00\n",
      "Location: Luxury Hotel\n",
      "Total no. of Attendees: ['Jane']\n",
      "Access Code: XYZ123\n",
      "*************************\n",
      "Event Name: Music Festival\n",
      "Date: 2024-10-01\n",
      "Time: 15:00\n",
      "Location: City Park\n",
      "Total no. of Attendees: ['Mike']\n",
      "Ticket Price: $50\n",
      "Available Seats: 200\n"
     ]
    }
   ],
   "source": [
    "class Event:\n",
    "    def __init__(self, name, date, time, location, attendees=None):\n",
    "        self.name = name\n",
    "        self.date = date\n",
    "        self.time = time\n",
    "        self.location = location\n",
    "        self.__attendees = attendees if attendees else []\n",
    "        \n",
    "    @classmethod\n",
    "    def new_event(cls, name, date, time, location, attendees=None):\n",
    "        print(\"New event has been registered.\")\n",
    "        return Event(name, date, time, location, attendees)\n",
    "        \n",
    "    \n",
    "    def add_attendees(self, attendees):\n",
    "        if isinstance(attendees, list):\n",
    "            self.__attendees.extend(attendees)\n",
    "        else:\n",
    "            self.__attendees.append(attendees)\n",
    "        print(f\"Added attendees: {attendees}\")\n",
    "\n",
    "    def remove_attendees(self, attendees):\n",
    "        if isinstance(attendees, list):\n",
    "            for attendee in attendees:\n",
    "                if attendee in self.__attendees:\n",
    "                    self.__attendees.remove(attendee)\n",
    "        else:\n",
    "            if attendees in self.__attendees:\n",
    "                self.__attendees.remove(attendees)\n",
    "        print(f\"Removed attendees: {attendees}\")\n",
    " \n",
    "    def get_attendees(self):\n",
    "        return f\"Total number of attendees: {len(self.__attendees)}\"\n",
    "    \n",
    "    def get_event_info(self):\n",
    "        return (f\"Event Name: {self.name}\\n\"\n",
    "                f\"Date: {self.date}\\n\"\n",
    "                f\"Time: {self.time}\\n\"\n",
    "                f\"Location: {self.location}\\n\"\n",
    "                f\"Total no. of Attendees: {self.__attendees}\")\n",
    "\n",
    "\n",
    "class PrivateEvent(Event):\n",
    "    def __init__(self, name, date, time, location, attendees=None, access_code=None):\n",
    "        super().__init__(name, date, time, location, attendees)\n",
    "        self.__access_code = access_code\n",
    "    \n",
    "    def get_event_info(self):\n",
    "        base_info = super().get_event_info()\n",
    "        return f\"{base_info}\\nAccess Code: {self.__access_code}\"\n",
    "\n",
    "\n",
    "class PublicEvent(Event):\n",
    "    def __init__(self, name, date, time, location, attendees=None, ticket_price=0, available_seats=0):\n",
    "        super().__init__(name, date, time, location, attendees)\n",
    "        self.ticket_price = ticket_price\n",
    "        self.available_seats = available_seats\n",
    "        \n",
    "    def get_event_info(self):\n",
    "        base_info = super().get_event_info()\n",
    "        return (f\"{base_info}\\n\"\n",
    "                f\"Ticket Price: ${self.ticket_price}\\n\"\n",
    "                f\"Available Seats: {self.available_seats}\")\n",
    "    \n",
    "    \n",
    "event1 = Event.new_event(\"Tech Conference\", \"2024-08-01\", \"09:00\", \"Convention Center\")\n",
    "event1.add_attendees([\"Alice\", \"Bob\"])\n",
    "print(event1.get_event_info())\n",
    "print('*' * 25)\n",
    "\n",
    "private_event = PrivateEvent(\"Secret Gala\", \"2024-09-01\", \"19:00\", \"Luxury Hotel\", [\"John\"], \"XYZ123\")\n",
    "print(private_event.get_event_info())\n",
    "print('*' * 25)\n",
    "private_event.add_attendees([\"Jane\"])\n",
    "private_event.remove_attendees(\"John\")\n",
    "print(private_event.get_event_info())\n",
    "print('*' * 25)\n",
    "\n",
    "public_event = PublicEvent(\"Music Festival\", \"2024-10-01\", \"15:00\", \"City Park\", [\"Mike\"], 50, 200)\n",
    "print(public_event.get_event_info())"
   ]
  },
  {
   "cell_type": "markdown",
   "id": "802e995e-822a-465f-a802-56426fba9ec2",
   "metadata": {},
   "source": [
    "#### 10.Write a code for Airline Reservation System using OOPS: \n",
    "+ Create a Flight class that has attributes such as flight number, departure and arrival airports, departure and arrival times, and available seats (private). \n",
    "+ Implement methods to book a seat, cancel a reservation, and get the remaining available seats. \n",
    "+ Use encapsulation to hide the flight's unique identification number. \n",
    "+ Inherit from the Flight class to create a DomesticFlight class and an InternationalFlight class, each with their own specific attributes and methods. "
   ]
  },
  {
   "cell_type": "code",
   "execution_count": 75,
   "id": "4ee062ef-9f04-49dc-b387-052a7321c574",
   "metadata": {},
   "outputs": [
    {
     "name": "stdout",
     "output_type": "stream",
     "text": [
      "Flight Number: DL123\n",
      "Departure Airport: LAX\n",
      "Arrival Airport: SFO\n",
      "Departure Time: 2024-08-15 09:00\n",
      "Arrival Time: 2024-08-15 10:30\n",
      "Available Seats: 100\n",
      "Domestic Fee: $50\n",
      "*************************\n",
      "Booked 10 seat(s).\n",
      "Remaining available seats: 90\n",
      "Cancelled 5 seat(s).\n",
      "Remaining available seats: 95\n",
      "*************************\n",
      "Flight Number: AI456\n",
      "Departure Airport: JFK\n",
      "Arrival Airport: LHR\n",
      "Departure Time: 2024-09-10 18:00\n",
      "Arrival Time: 2024-09-11 06:00\n",
      "Available Seats: 200\n",
      "International Fee: $150\n",
      "Visa Required: True\n",
      "*************************\n",
      "Booked 20 seat(s).\n",
      "Remaining available seats: 180\n",
      "Cancelled 10 seat(s).\n",
      "Remaining available seats: 190\n"
     ]
    }
   ],
   "source": [
    "class Flight:\n",
    "    def __init__(self, flight_number, departure_airport, arrival_airport, departure_time, arrival_time, available_seats):\n",
    "        self.__flight_id = id(self)\n",
    "        self.flight_number = flight_number\n",
    "        self.departure_airport = departure_airport\n",
    "        self.arrival_airport = arrival_airport\n",
    "        self.departure_time = departure_time\n",
    "        self.arrival_time = arrival_time\n",
    "        self.__available_seats = available_seats\n",
    "\n",
    "    def book_seat(self, number_of_seats):\n",
    "        if number_of_seats <= self.__available_seats:\n",
    "            self.__available_seats -= number_of_seats\n",
    "            print(f\"Booked {number_of_seats} seat(s).\")\n",
    "        else:\n",
    "            print(\"Not enough seats available.\")\n",
    "\n",
    "    def cancel_reservation(self, number_of_seats):\n",
    "        self.__available_seats += number_of_seats\n",
    "        print(f\"Cancelled {number_of_seats} seat(s).\")\n",
    "\n",
    "    def get_available_seats(self):\n",
    "        return f\"Remaining available seats: {self.__available_seats}\"\n",
    "\n",
    "    def get_flight_info(self):\n",
    "        return (f\"Flight Number: {self.flight_number}\\n\"\n",
    "                f\"Departure Airport: {self.departure_airport}\\n\"\n",
    "                f\"Arrival Airport: {self.arrival_airport}\\n\"\n",
    "                f\"Departure Time: {self.departure_time}\\n\"\n",
    "                f\"Arrival Time: {self.arrival_time}\\n\"\n",
    "                f\"Available Seats: {self.__available_seats}\")\n",
    "\n",
    "    def get_flight_id(self):\n",
    "        return self.__flight_id\n",
    "\n",
    "\n",
    "class DomesticFlight(Flight):\n",
    "    def __init__(self, flight_number, departure_airport, arrival_airport, departure_time, arrival_time, available_seats, domestic_fee):\n",
    "        super().__init__(flight_number, departure_airport, arrival_airport, departure_time, arrival_time, available_seats)\n",
    "        self.domestic_fee = domestic_fee\n",
    "\n",
    "    def get_flight_info(self):\n",
    "        base_info = super().get_flight_info()\n",
    "        return f\"{base_info}\\nDomestic Fee: ${self.domestic_fee}\"\n",
    "\n",
    "\n",
    "class InternationalFlight(Flight):\n",
    "    def __init__(self, flight_number, departure_airport, arrival_airport, departure_time, arrival_time, available_seats, international_fee, visa_required):\n",
    "        super().__init__(flight_number, departure_airport, arrival_airport, departure_time, arrival_time, available_seats)\n",
    "        self.international_fee = international_fee\n",
    "        self.visa_required = visa_required\n",
    "\n",
    "    def get_flight_info(self):\n",
    "        base_info = super().get_flight_info()\n",
    "        return (f\"{base_info}\\n\"\n",
    "                f\"International Fee: ${self.international_fee}\\n\"\n",
    "                f\"Visa Required: {self.visa_required}\")\n",
    "\n",
    "\n",
    "\n",
    "domestic_flight = DomesticFlight(\"DL123\", \"LAX\", \"SFO\", \"2024-08-15 09:00\", \"2024-08-15 10:30\", 100, 50)\n",
    "print(domestic_flight.get_flight_info())\n",
    "print('*' * 25)\n",
    "domestic_flight.book_seat(10)\n",
    "print(domestic_flight.get_available_seats())\n",
    "domestic_flight.cancel_reservation(5)\n",
    "print(domestic_flight.get_available_seats())\n",
    "print('*' * 25)\n",
    "\n",
    "international_flight = InternationalFlight(\"AI456\", \"JFK\", \"LHR\", \"2024-09-10 18:00\", \"2024-09-11 06:00\", 200, 150, True)\n",
    "print(international_flight.get_flight_info())\n",
    "print('*' * 25)\n",
    "international_flight.book_seat(20)\n",
    "print(international_flight.get_available_seats())\n",
    "international_flight.cancel_reservation(10)\n",
    "print(international_flight.get_available_seats())"
   ]
  },
  {
   "cell_type": "markdown",
   "id": "4398568d-1a5e-4ed4-adf4-29e8ed62a98a",
   "metadata": {},
   "source": [
    "#### 11. Define a Python module named constants.py containing constants like pi and the speed of light. "
   ]
  },
  {
   "cell_type": "code",
   "execution_count": 3,
   "id": "9ed1406c-349f-4337-a99b-990174829d70",
   "metadata": {},
   "outputs": [
    {
     "name": "stdout",
     "output_type": "stream",
     "text": [
      "Value of Pi: 3.141592653589793\n",
      "Speed of Light: 299792458 m/s\n"
     ]
    }
   ],
   "source": [
    "from constants import PI, SPEED_OF_LIGHT\n",
    "\n",
    "\n",
    "print(f\"Value of Pi: {PI}\")\n",
    "print(f\"Speed of Light: {SPEED_OF_LIGHT} m/s\")"
   ]
  },
  {
   "cell_type": "markdown",
   "id": "4892df21-9584-4618-9f41-9311ae270aff",
   "metadata": {},
   "source": [
    "#### 12. Write a Python module named calculator.py containing functions for addition, subtraction, multiplication, and division. "
   ]
  },
  {
   "cell_type": "code",
   "execution_count": 8,
   "id": "45b8f9e0-15c4-41c6-9e3d-31ee47dd2f22",
   "metadata": {},
   "outputs": [
    {
     "name": "stdout",
     "output_type": "stream",
     "text": [
      "Addition of 34 and 67 is 101\n",
      "Substraction of 45 and 21 is 24\n",
      "Multiplication of 12 and 24 is 288\n",
      "Division of 56 and 2 is 28.0\n",
      "Can not divide by 0\n"
     ]
    }
   ],
   "source": [
    "from calculator import addition,division,multiplication,substraction\n",
    "\n",
    "print(addition(34, 67))\n",
    "print(substraction(45, 21))\n",
    "print(multiplication(12, 24))\n",
    "print(division(56, 2))\n",
    "print(division(34, 0))"
   ]
  },
  {
   "cell_type": "code",
   "execution_count": null,
   "id": "9b838ed0-2496-45ba-8500-ba7028e91eed",
   "metadata": {},
   "outputs": [],
   "source": []
  }
 ],
 "metadata": {
  "kernelspec": {
   "display_name": "Python 3 (ipykernel)",
   "language": "python",
   "name": "python3"
  },
  "language_info": {
   "codemirror_mode": {
    "name": "ipython",
    "version": 3
   },
   "file_extension": ".py",
   "mimetype": "text/x-python",
   "name": "python",
   "nbconvert_exporter": "python",
   "pygments_lexer": "ipython3",
   "version": "3.10.8"
  }
 },
 "nbformat": 4,
 "nbformat_minor": 5
}
